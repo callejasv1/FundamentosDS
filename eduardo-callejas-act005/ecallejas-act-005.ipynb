{
 "cells": [
  {
   "cell_type": "code",
   "execution_count": 1,
   "metadata": {},
   "outputs": [],
   "source": [
    "%matplotlib inline\n",
    "# importamos la triada de Data Science\n",
    "import pandas as pd\n",
    "import numpy as np\n",
    "import matplotlib.pyplot as plt\n",
    "# importamos scipy.stats que ayudará a generar distribuciones\n",
    "import scipy.stats as statsp"
   ]
  },
  {
   "cell_type": "markdown",
   "metadata": {},
   "source": [
    "### Genere una submuestra de casos acorde a lo siguiente:\n",
    "1. Utilice los últimos 4 dígitos de su rut como semilla pseudoaleatoria. Seleccione el 50% de los casos. Cada base generada debe contener los siguientes elementos:\n",
    "    - El índice de desarrollo humano (`undp_hdi`)\n",
    "    - El nombre del país (`ccodealp`)\n",
    "    - La región a la que pertenece (`ht_region`)\n",
    "    - El PIB per capita. (`gle_cgdpc`)\n",
    "    - El total de la población (`imf_pop`).\n",
    "    \n",
    "- Si su apellido está entre la A y la M, escoja las siguientes variables del módulo Educación:\n",
    "    - `ffp_hf`: Human Flight and Brain Drain.\n",
    "    - `wef_qes`: Quality of the educational system.\n",
    "    - `wdi_expedu`: Government expenditure on education, total (% of GDP)\n",
    "    - `wdi_ners`: School enrollment, secondary (% net)\n",
    "- Si su apellido está entre la N y la Z, escoja las siguientes variables del módulo Salud:\n",
    "    - `wef_imort`: Infant mortality, deaths/1000 live births.\n",
    "    - `who_alc2000`: Alcohol consumption per capita (2000-).\n",
    "    - `who_tobt`: Current smoking of any tobacco product (Total).\n",
    "    - `wdi_exph`: Government expenditure on health, total (% of GDP).\n",
    "- Guarde esta tabla procesada en un nuevo objeto. \n",
    "- Renombre las categorías de la variable `ht_region` de números a regiones."
   ]
  },
  {
   "cell_type": "code",
   "execution_count": 2,
   "metadata": {},
   "outputs": [],
   "source": [
    "df = pd.read_csv('qog_std_cs_jan18.csv')"
   ]
  },
  {
   "cell_type": "code",
   "execution_count": 3,
   "metadata": {},
   "outputs": [],
   "source": [
    "subsample_ec = df.sample(frac=.5, random_state=1914)"
   ]
  },
  {
   "cell_type": "code",
   "execution_count": 4,
   "metadata": {},
   "outputs": [
    {
     "data": {
      "text/plain": [
       "(97, 1882)"
      ]
     },
     "execution_count": 4,
     "metadata": {},
     "output_type": "execute_result"
    }
   ],
   "source": [
    "subsample_ec.shape"
   ]
  },
  {
   "cell_type": "code",
   "execution_count": 5,
   "metadata": {},
   "outputs": [],
   "source": [
    "subsample_ec_final = subsample_ec.loc[:,['undp_hdi','cname', 'ccodealp', 'ht_region', 'gle_cgdpc', 'imf_pop', 'ffp_hf', 'wef_qes', 'wdi_expedu','wdi_ners']]"
   ]
  },
  {
   "cell_type": "code",
   "execution_count": 6,
   "metadata": {},
   "outputs": [
    {
     "data": {
      "text/plain": [
       "(97, 10)"
      ]
     },
     "execution_count": 6,
     "metadata": {},
     "output_type": "execute_result"
    }
   ],
   "source": [
    "subsample_ec_final.shape"
   ]
  },
  {
   "cell_type": "code",
   "execution_count": 7,
   "metadata": {},
   "outputs": [
    {
     "data": {
      "text/plain": [
       "4     25\n",
       "5     13\n",
       "3     13\n",
       "1     11\n",
       "9     10\n",
       "2      8\n",
       "10     7\n",
       "6      4\n",
       "8      3\n",
       "7      3\n",
       "Name: ht_region, dtype: int64"
      ]
     },
     "execution_count": 7,
     "metadata": {},
     "output_type": "execute_result"
    }
   ],
   "source": [
    "subsample_ec_final['ht_region'].value_counts()"
   ]
  },
  {
   "cell_type": "code",
   "execution_count": 8,
   "metadata": {},
   "outputs": [],
   "source": [
    "subsample_ec_final['ht_region'] = subsample_ec_final['ht_region'].replace([1, 2, 3, 4, 5, 6, 7, 8, 9, 10],\n",
    "                                                           ['EastEurope', 'LatAm', 'NorthAfrica',\n",
    "                                                            'SubSaharian', 'WesternDem', 'EastAsia',\n",
    "                                                            'SouthEastAsia','SouthAsia','Pacific', 'Caribbean' ])"
   ]
  },
  {
   "cell_type": "markdown",
   "metadata": {},
   "source": [
    "## Genere una función que ingrese su objeto y devuelva lo siguiente\n",
    "1. Por cada variable existente en su objeto, calcule las medidas descriptivas para los casos contínuos\n",
    "- Para cada variable discreta, que calcule la frecuencia.\n",
    "- Reporte las estadísticas descriptivas para `gle_cgdpc`, `undp_hdi`, `imf_pop`. Compare las estadísticas con algún compañero. ¿Ve alguna diferencia substancial en alguna de ellas?"
   ]
  },
  {
   "cell_type": "code",
   "execution_count": null,
   "metadata": {},
   "outputs": [],
   "source": []
  },
  {
   "cell_type": "code",
   "execution_count": 9,
   "metadata": {},
   "outputs": [],
   "source": [
    "def fetch_descriptive(dataframe):\n",
    "    for key, value in dataframe.iteritems():\n",
    "        print(value.describe())"
   ]
  },
  {
   "cell_type": "code",
   "execution_count": 10,
   "metadata": {},
   "outputs": [
    {
     "name": "stdout",
     "output_type": "stream",
     "text": [
      "count    91.000000\n",
      "mean      0.700000\n",
      "std       0.153728\n",
      "min       0.394000\n",
      "25%       0.579000\n",
      "50%       0.733000\n",
      "75%       0.815000\n",
      "max       0.948000\n",
      "Name: undp_hdi, dtype: float64\n",
      "count           97\n",
      "unique          97\n",
      "top       Botswana\n",
      "freq             1\n",
      "Name: cname, dtype: object\n",
      "count      97\n",
      "unique     97\n",
      "top       LSO\n",
      "freq        1\n",
      "Name: ccodealp, dtype: object\n",
      "count              97\n",
      "unique             10\n",
      "top       SubSaharian\n",
      "freq               25\n",
      "Name: ht_region, dtype: object\n",
      "count        96.000000\n",
      "mean      15281.021974\n",
      "std       21202.801711\n",
      "min         663.570010\n",
      "25%        2678.752500\n",
      "50%        6463.520000\n",
      "75%       18167.547250\n",
      "max      108481.130000\n",
      "Name: gle_cgdpc, dtype: float64\n",
      "count     68.000000\n",
      "mean      27.278309\n",
      "std       50.994885\n",
      "min        0.011000\n",
      "25%        0.835000\n",
      "50%        6.412500\n",
      "75%       33.307499\n",
      "max      318.789001\n",
      "Name: imf_pop, dtype: float64\n",
      "count    86.000000\n",
      "mean      5.452326\n",
      "std       2.103707\n",
      "min       1.000000\n",
      "25%       4.000000\n",
      "50%       5.500000\n",
      "75%       7.075000\n",
      "max       9.200000\n",
      "Name: ffp_hf, dtype: float64\n",
      "count    72.000000\n",
      "mean      3.626546\n",
      "std       0.930710\n",
      "min       1.874972\n",
      "25%       2.880599\n",
      "50%       3.574082\n",
      "75%       4.258940\n",
      "max       5.820522\n",
      "Name: wef_qes, dtype: float64\n",
      "count    62.000000\n",
      "mean      4.665471\n",
      "std       1.813731\n",
      "min       1.021950\n",
      "25%       3.188830\n",
      "50%       4.727520\n",
      "75%       5.528880\n",
      "max      12.467750\n",
      "Name: wdi_expedu, dtype: float64\n",
      "count    68.000000\n",
      "mean     72.513790\n",
      "std      21.617177\n",
      "min      23.102320\n",
      "25%      60.914498\n",
      "50%      79.954502\n",
      "75%      88.325966\n",
      "max      99.573357\n",
      "Name: wdi_ners, dtype: float64\n"
     ]
    }
   ],
   "source": [
    "fetch_descriptive(subsample_ec_final)"
   ]
  },
  {
   "cell_type": "markdown",
   "metadata": {},
   "source": [
    "\n",
    "## Genere una función que liste las observaciones perdidas de una variable\n",
    "1. La función debe contener los siguientes argumentos:\n",
    "    - `dataframe`: La función debe ingresar un objeto DataFrame.\n",
    "    - `var`: Variable a inspeccionar.\n",
    "    - `print_list`: Opción para imprimir la lista de observaciones perdidas en la variable. Debe ser `False` por defecto.\n",
    "- La función debe retornar la cantidad de casos perdidos y el porcentaje correspondiente.\n",
    "- Cuando `print_list = True`, debe retornar la lista de casos.\n",
    "- Analice todas las variables y sus casos perdidos. Para las 3 variables con un mayor porcentaje de casos perdidos, solicite la lista de países con ausencia de datos."
   ]
  },
  {
   "cell_type": "code",
   "execution_count": 11,
   "metadata": {},
   "outputs": [],
   "source": [
    "subsample_ec_final['falgnull_imf_pop'] = subsample_ec_final['imf_pop'].isna()"
   ]
  },
  {
   "cell_type": "code",
   "execution_count": 12,
   "metadata": {},
   "outputs": [
    {
     "data": {
      "text/plain": [
       "False    68\n",
       "True     29\n",
       "Name: falgnull_imf_pop, dtype: int64"
      ]
     },
     "execution_count": 12,
     "metadata": {},
     "output_type": "execute_result"
    }
   ],
   "source": [
    "subsample_ec_final['falgnull_imf_pop'].value_counts()"
   ]
  },
  {
   "cell_type": "code",
   "execution_count": 14,
   "metadata": {},
   "outputs": [],
   "source": [
    "def fetch_perdidas(dataframe, var, print_list=False):\n",
    "    print('Columna:', var)\n",
    "    print(dataframe[var].isna().value_counts())\n",
    "    print(dataframe[var].isna().value_counts(True))\n",
    "    print('\\n')\n",
    "    if print_list==True:\n",
    "        \n",
    "        print('Lista de observaciones:')\n",
    "        print(dataframe['cname'][dataframe[var].isnull()])\n",
    "        print('\\n')"
   ]
  },
  {
   "cell_type": "code",
   "execution_count": 15,
   "metadata": {},
   "outputs": [
    {
     "name": "stdout",
     "output_type": "stream",
     "text": [
      "Columna: imf_pop\n",
      "False    68\n",
      "True     29\n",
      "Name: imf_pop, dtype: int64\n",
      "False    0.701031\n",
      "True     0.298969\n",
      "Name: imf_pop, dtype: float64\n",
      "\n",
      "\n"
     ]
    }
   ],
   "source": [
    "fetch_perdidas(subsample_ec_final, 'imf_pop', False)"
   ]
  },
  {
   "cell_type": "code",
   "execution_count": 16,
   "metadata": {},
   "outputs": [],
   "source": [
    "columnas = ['gle_cgdpc', 'imf_pop', 'ffp_hf', 'wef_qes', 'wdi_expedu','wdi_ners']"
   ]
  },
  {
   "cell_type": "code",
   "execution_count": 17,
   "metadata": {},
   "outputs": [
    {
     "name": "stdout",
     "output_type": "stream",
     "text": [
      "Columna: gle_cgdpc\n",
      "False    96\n",
      "True      1\n",
      "Name: gle_cgdpc, dtype: int64\n",
      "False    0.989691\n",
      "True     0.010309\n",
      "Name: gle_cgdpc, dtype: float64\n",
      "\n",
      "\n",
      "Columna: imf_pop\n",
      "False    68\n",
      "True     29\n",
      "Name: imf_pop, dtype: int64\n",
      "False    0.701031\n",
      "True     0.298969\n",
      "Name: imf_pop, dtype: float64\n",
      "\n",
      "\n",
      "Columna: ffp_hf\n",
      "False    86\n",
      "True     11\n",
      "Name: ffp_hf, dtype: int64\n",
      "False    0.886598\n",
      "True     0.113402\n",
      "Name: ffp_hf, dtype: float64\n",
      "\n",
      "\n",
      "Columna: wef_qes\n",
      "False    72\n",
      "True     25\n",
      "Name: wef_qes, dtype: int64\n",
      "False    0.742268\n",
      "True     0.257732\n",
      "Name: wef_qes, dtype: float64\n",
      "\n",
      "\n",
      "Columna: wdi_expedu\n",
      "False    62\n",
      "True     35\n",
      "Name: wdi_expedu, dtype: int64\n",
      "False    0.639175\n",
      "True     0.360825\n",
      "Name: wdi_expedu, dtype: float64\n",
      "\n",
      "\n",
      "Columna: wdi_ners\n",
      "False    68\n",
      "True     29\n",
      "Name: wdi_ners, dtype: int64\n",
      "False    0.701031\n",
      "True     0.298969\n",
      "Name: wdi_ners, dtype: float64\n",
      "\n",
      "\n"
     ]
    }
   ],
   "source": [
    "for i in columnas:\n",
    "    fetch_perdidas(subsample_ec_final, i)"
   ]
  },
  {
   "cell_type": "code",
   "execution_count": 148,
   "metadata": {},
   "outputs": [],
   "source": [
    "subsample_ec_final.to_csv('subsample_ec.csv', na_rep='NaN')"
   ]
  },
  {
   "cell_type": "markdown",
   "metadata": {},
   "source": [
    "Los con mayores valores perdidos son imf_pop, wdi_expedu, wdi_ners"
   ]
  },
  {
   "cell_type": "code",
   "execution_count": 79,
   "metadata": {},
   "outputs": [
    {
     "name": "stdout",
     "output_type": "stream",
     "text": [
      "Columna: imf_pop\n",
      "False    68\n",
      "True     29\n",
      "Name: imf_pop, dtype: int64\n",
      "False    0.701031\n",
      "True     0.298969\n",
      "Name: imf_pop, dtype: float64\n",
      "\n",
      "\n",
      "Lista de observaciones:\n",
      "151                 Senegal\n",
      "111                  Monaco\n",
      "164           Sudan (2012-)\n",
      "118                 Namibia\n",
      "65                    Ghana\n",
      "5       Antigua and Barbuda\n",
      "99            Liechtenstein\n",
      "63                   Gambia\n",
      "190               Venezuela\n",
      "53        Equatorial Guinea\n",
      "19                 Botswana\n",
      "139           Guinea-Bissau\n",
      "102              Madagascar\n",
      "49                 Dominica\n",
      "60                 Djibouti\n",
      "193                  Zambia\n",
      "76                    India\n",
      "145      St Kitts and Nevis\n",
      "69                Guatemala\n",
      "89             Korea, North\n",
      "26                  Burundi\n",
      "73                 Honduras\n",
      "29                 Cameroon\n",
      "95                  Lesotho\n",
      "169                   Syria\n",
      "34                     Chad\n",
      "178            Turkmenistan\n",
      "159                 Somalia\n",
      "175    United Arab Emirates\n",
      "Name: cname, dtype: object\n",
      "\n",
      "\n",
      "Columna: wdi_expedu\n",
      "False    62\n",
      "True     35\n",
      "Name: wdi_expedu, dtype: int64\n",
      "False    0.639175\n",
      "True     0.360825\n",
      "Name: wdi_expedu, dtype: float64\n",
      "\n",
      "\n",
      "Lista de observaciones:\n",
      "164             Sudan (2012-)\n",
      "118                   Namibia\n",
      "18     Bosnia and Herzegovina\n",
      "179                    Tuvalu\n",
      "130                     Palau\n",
      "5         Antigua and Barbuda\n",
      "25                    Myanmar\n",
      "165                  Suriname\n",
      "114                Montenegro\n",
      "190                 Venezuela\n",
      "53          Equatorial Guinea\n",
      "19                   Botswana\n",
      "173                     Tonga\n",
      "98                      Libya\n",
      "49                   Dominica\n",
      "60                   Djibouti\n",
      "193                    Zambia\n",
      "91                     Kuwait\n",
      "150              Saudi Arabia\n",
      "79                       Iraq\n",
      "119                     Nauru\n",
      "66                   Kiribati\n",
      "89               Korea, North\n",
      "22            Solomon Islands\n",
      "4                      Angola\n",
      "183                     Egypt\n",
      "95                    Lesotho\n",
      "169                     Syria\n",
      "129          Marshall Islands\n",
      "10                    Bahamas\n",
      "159                   Somalia\n",
      "175      United Arab Emirates\n",
      "2                     Algeria\n",
      "133          Papua New Guinea\n",
      "87                     Jordan\n",
      "Name: cname, dtype: object\n",
      "\n",
      "\n",
      "Columna: wdi_ners\n",
      "False    68\n",
      "True     29\n",
      "Name: wdi_ners, dtype: int64\n",
      "False    0.701031\n",
      "True     0.298969\n",
      "Name: wdi_ners, dtype: float64\n",
      "\n",
      "\n",
      "Lista de observaciones:\n",
      "151                   Senegal\n",
      "111                    Monaco\n",
      "164             Sudan (2012-)\n",
      "118                   Namibia\n",
      "18     Bosnia and Herzegovina\n",
      "112                  Mongolia\n",
      "156                  Slovakia\n",
      "114                Montenegro\n",
      "63                     Gambia\n",
      "53          Equatorial Guinea\n",
      "19                   Botswana\n",
      "139             Guinea-Bissau\n",
      "98                      Libya\n",
      "60                   Djibouti\n",
      "193                    Zambia\n",
      "79                       Iraq\n",
      "66                   Kiribati\n",
      "22            Solomon Islands\n",
      "4                      Angola\n",
      "128                Micronesia\n",
      "30                     Canada\n",
      "34                       Chad\n",
      "178              Turkmenistan\n",
      "10                    Bahamas\n",
      "9                     Austria\n",
      "159                   Somalia\n",
      "175      United Arab Emirates\n",
      "2                     Algeria\n",
      "133          Papua New Guinea\n",
      "Name: cname, dtype: object\n",
      "\n",
      "\n"
     ]
    }
   ],
   "source": [
    "for i in ['imf_pop','wdi_expedu','wdi_ners']:\n",
    "    fetch_perdidas(subsample_ec_final, i, True)\n",
    "    "
   ]
  },
  {
   "cell_type": "markdown",
   "metadata": {},
   "source": [
    "## Grafique los histogramas\n",
    "\n",
    "* Genere una función que grafique un histograma en conjunto y señale las medias.\n",
    "* La función debe incluír los siguientes argumentos:\n",
    "    - `dataframe`: La base de datos donde se encuentran los datos específicos.\n",
    "    - `var`: La variable a graficar.\n",
    "    - `sample_mean`: Booleano. Si es verdadero, debe generar una recta vertical indicando la media de la variable en la selección muestral. Por defecto debe ser `False`.\n",
    "    - `true_mean`: Booleano. Si es verdadero, debe generar una recta vertical indicando la media de variable en la base de datos completa.\n",
    "    \n",
    "* Implemente las funciones para las 4 variables seleccionadas según su grupo. ¿En qué variables la media de la submuestra es mayor a la de la muestra completa?"
   ]
  },
  {
   "cell_type": "code",
   "execution_count": 80,
   "metadata": {},
   "outputs": [
    {
     "data": {
      "image/png": "[encoded data removed]",
      "text/plain": [
       "<Figure size 432x288 with 1 Axes>"
      ]
     },
     "metadata": {},
     "output_type": "display_data"
    }
   ],
   "source": [
    "# Test antes de implementar la función\n",
    "subsample_ec_final_dropna = subsample_ec_final['ffp_hf'].dropna();\n",
    "plt.hist(subsample_ec_final_dropna, color='grey', alpha=.4)\n",
    "plt.title(\"Distribución empírica del índice de la variable ffp_hf\");"
   ]
  },
  {
   "cell_type": "code",
   "execution_count": 105,
   "metadata": {},
   "outputs": [],
   "source": [
    "def plot_hist(dataframe, var, sample_mean = False, true_mean = False):\n",
    "    dataframe_dropna = dataframe[var].dropna()\n",
    "    plt.hist(dataframe_dropna, color='grey', alpha=.4)\n",
    "    plt.title(\"Distribución empírica del índice de la variable \"+var)\n",
    "    if sample_mean == True:\n",
    "        plt.axvline(dataframe_dropna.mean(), color='dodgerblue', linestyle='--', lw=2)\n",
    "    if true_mean ==  True: \n",
    "        plt.axvline(df[var].dropna().mean(), color='red', linestyle='-', lw=2)"
   ]
  },
  {
   "cell_type": "code",
   "execution_count": 106,
   "metadata": {},
   "outputs": [
    {
     "data": {
      "image/png": "[encoded data removed]",
      "text/plain": [
       "<Figure size 432x288 with 1 Axes>"
      ]
     },
     "metadata": {},
     "output_type": "display_data"
    }
   ],
   "source": [
    "plot_hist(subsample_ec_final, 'wef_qes', True, True)"
   ]
  },
  {
   "cell_type": "code",
   "execution_count": 108,
   "metadata": {},
   "outputs": [
    {
     "data": {
      "image/png": "[encoded data removed]",
      "text/plain": [
       "<Figure size 432x288 with 1 Axes>"
      ]
     },
     "metadata": {},
     "output_type": "display_data"
    },
    {
     "data": {
      "image/png": "[encoded data removed]",
      "text/plain": [
       "<Figure size 432x288 with 1 Axes>"
      ]
     },
     "metadata": {},
     "output_type": "display_data"
    },
    {
     "data": {
      "image/png": "[encoded data removed]",
      "text/plain": [
       "<Figure size 432x288 with 1 Axes>"
      ]
     },
     "metadata": {},
     "output_type": "display_data"
    },
    {
     "data": {
      "image/png": "[encoded data removed]",
      "text/plain": [
       "<Figure size 432x288 with 1 Axes>"
      ]
     },
     "metadata": {},
     "output_type": "display_data"
    }
   ],
   "source": [
    "for i in ['ffp_hf', 'wef_qes', 'wdi_expedu','wdi_ners']:\n",
    "    plt.figure()\n",
    "    plot_hist(subsample_ec_final, i, True, True)\n",
    "    "
   ]
  },
  {
   "cell_type": "markdown",
   "metadata": {},
   "source": [
    "La media es mayor en la submuestra solo en la variable 'wdi_expedu' (gasto del gobierno en educación)"
   ]
  },
  {
   "cell_type": "markdown",
   "metadata": {},
   "source": [
    "\n",
    "### Genere una función que devuelva un dotplot\n",
    "\n",
    "* La función debe contener los siguientes argumentos como argumentos:\n",
    "     - `dataframe`: La tabla de datos donde buscar las variables.\n",
    "     - `plot_var`: La variable a analizar y extraer las medias.\n",
    "     - `plot_by`: La variable agrupadora.\n",
    "     - `global_stat`: Booleano. Si es `True` debe graficar la media global de la variable. Por defecto debe ser `False`.\n",
    "     - statistic: Debe presentar dos opciones. `mean` para la media y `median` para la mediana. Por defecto debe ser `mean`.\n",
    "     \n",
    " * Implemente la función en las 3 variables con una menor cantidad de datos perdidos."
   ]
  },
  {
   "cell_type": "code",
   "execution_count": 113,
   "metadata": {},
   "outputs": [
    {
     "data": {
      "text/plain": [
       "[<matplotlib.lines.Line2D at 0x7f1bc63c7c18>]"
      ]
     },
     "execution_count": 113,
     "metadata": {},
     "output_type": "execute_result"
    },
    {
     "data": {
      "image/png": "[encoded data removed]",
      "text/plain": [
       "<Figure size 432x288 with 1 Axes>"
      ]
     },
     "metadata": {},
     "output_type": "display_data"
    }
   ],
   "source": [
    "# prueba\n",
    "group_mean = round(subsample_ec_final.groupby('ht_region')['imf_pop'].mean(),2)\n",
    "group_mean\n",
    "plt.title('Posición de distintas zonas geográficas en cuanto a HDI')\n",
    "plt.plot(group_mean.values, group_mean.index, 'o', color = 'grey')"
   ]
  },
  {
   "cell_type": "code",
   "execution_count": 144,
   "metadata": {},
   "outputs": [],
   "source": [
    "def get_dotplot(dataframe, plot_var, plot_by, global_stat= False, statistic = 'mean'):\n",
    "    plt.title('Dot plot agrupado por '+ plot_by+ ' de la variable '+ plot_var )\n",
    "    group_mean = round(dataframe.groupby(plot_by)[plot_var].mean(),2)\n",
    "    plt.plot(group_mean.values, group_mean.index, 'o', color ='grey')\n",
    "    \n",
    "    if global_stat == True:\n",
    "        if statistic == 'mean':\n",
    "            plt.axvline(df[plot_var].mean(), color = 'tomato', linestyle = '--'); # \n",
    "        elif statistic == 'median':\n",
    "            plt.axvline(df[plot_var].median(), color = 'tomato', linestyle = '--')\n",
    "                "
   ]
  },
  {
   "cell_type": "code",
   "execution_count": 145,
   "metadata": {},
   "outputs": [
    {
     "data": {
      "image/png": "[encoded data removed]",
      "text/plain": [
       "<Figure size 432x288 with 1 Axes>"
      ]
     },
     "metadata": {},
     "output_type": "display_data"
    },
    {
     "data": {
      "image/png": "[encoded data removed]",
      "text/plain": [
       "<Figure size 432x288 with 1 Axes>"
      ]
     },
     "metadata": {},
     "output_type": "display_data"
    },
    {
     "data": {
      "image/png": "[encoded data removed]",
      "text/plain": [
       "<Figure size 432x288 with 1 Axes>"
      ]
     },
     "metadata": {},
     "output_type": "display_data"
    }
   ],
   "source": [
    "for i in ['imf_pop', 'ffp_hf', 'wef_qes']:\n",
    "    plt.figure()\n",
    "   \n",
    "    get_dotplot(subsample_ec_final,i,'ht_region', True, 'mean')"
   ]
  },
  {
   "cell_type": "code",
   "execution_count": null,
   "metadata": {},
   "outputs": [],
   "source": []
  }
 ],
 "metadata": {
  "kernelspec": {
   "display_name": "Python 3",
   "language": "python",
   "name": "python3"
  },
  "language_info": {
   "codemirror_mode": {
    "name": "ipython",
    "version": 3
   },
   "file_extension": ".py",
   "mimetype": "text/x-python",
   "name": "python",
   "nbconvert_exporter": "python",
   "pygments_lexer": "ipython3",
   "version": "3.6.4"
  }
 },
 "nbformat": 4,
 "nbformat_minor": 2
}
