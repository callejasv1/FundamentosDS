{
 "cells": [
  {
   "cell_type": "markdown",
   "metadata": {},
   "source": [
    "![](logo.png)\n",
    "\n",
    "# Unidad: Regresíon - Sesión 1\n",
    "\n",
    "### Regresión (desde la econometría)\n",
    "\n",
    "\n",
    "### Sobre la base de datos\n",
    "\n",
    "* En esta actividad trabajaremos con un registro de clientes de un banco e información sobre su salud financiera. La base contenida en el csv `Credit` contiene las siguientes variables:\n",
    "\n",
    "* `Income`: Ingreso anual disponible en miles de dólares.\n",
    "* `Limit`: Límite del crédito.\n",
    "* `Rating`: Ranking del crédito.\n",
    "* `Cards`: Cantidad de tarjetas de credito.\n",
    "* `Age`: Edad del usuario.\n",
    "* `Education`: Años de educación del usuario.\n",
    "* `Gender`: ¿Hombre o mujer?\n",
    "* `Student`: ¿Es estudiante?\n",
    "* `Married`: ¿Está casado?\n",
    "* `Ethnicity`: Etnicidad del usuario (Caucásico, Afroamericano, Asiático)\n",
    "* `Balance`: Promedio de deuda en tarjeta de crédito de usuario.\n",
    "\n",
    "* Para efectos prácticos del ejercicio, nos interesa saber sobre los determinantes de la variación en el promedio de deuda en tarjeta de crédito. A lo largo del ejercicio generaremos modelos econométricos para inspeccionar los efectos de distintos atributos.\n",
    "\n",
    "## Ejercicio 1: Prepare el ambiente de trabajo\n",
    "\n",
    "* Importe las librerías básicas para el análisis de datos.\n",
    "* Incluya los import base de `statsmodels`.\n",
    "* Importe la base de datos `Credit.csv` y elimine la columna `Unnamed: 0`.\n",
    "* Siguiendo las buenas prácticas, genere variables binarias para capturar el efecto del grupo minoritario en cada variable. Para el caso de `Ethnicity`, genere binarias para `AfricanAmerican` y `Asian`.\n",
    "    - _tip_: Utilice `value_counts()` para revisar la cantidad de casos en las variables categóricas."
   ]
  },
  {
   "cell_type": "code",
   "execution_count": 1,
   "metadata": {},
   "outputs": [],
   "source": [
    "%matplotlib inline\n",
    "\n",
    "import pandas as pd\n",
    "import numpy as np\n",
    "import scipy.stats as stats\n",
    "import matplotlib.pyplot as plt\n",
    "import statsmodels.api as sm\n",
    "import statsmodels.formula.api as smf\n",
    "import seaborn as sns\n"
   ]
  },
  {
   "cell_type": "code",
   "execution_count": 15,
   "metadata": {},
   "outputs": [
    {
     "data": {
      "text/plain": [
       "Index(['Unnamed: 0', 'Income', 'Limit', 'Rating', 'Cards', 'Age', 'Education',\n",
       "       'Gender', 'Student', 'Married', 'Ethnicity', 'Balance'],\n",
       "      dtype='object')"
      ]
     },
     "execution_count": 15,
     "metadata": {},
     "output_type": "execute_result"
    }
   ],
   "source": [
    "df = pd.read_csv('Credit.csv')\n"
   ]
  },
  {
   "cell_type": "code",
   "execution_count": 16,
   "metadata": {},
   "outputs": [],
   "source": [
    "df = df[['Income', 'Limit', 'Rating', 'Cards', 'Age', 'Education',\n",
    "       'Gender', 'Student', 'Married', 'Ethnicity', 'Balance']]"
   ]
  },
  {
   "cell_type": "code",
   "execution_count": 68,
   "metadata": {},
   "outputs": [
    {
     "data": {
      "text/plain": [
       "Index(['Income', 'Limit', 'Rating', 'Cards', 'Age', 'Education', 'Gender',\n",
       "       'Student', 'Married', 'Ethnicity', 'Balance', 'AfricanAmerican',\n",
       "       'Asian'],\n",
       "      dtype='object')"
      ]
     },
     "execution_count": 68,
     "metadata": {},
     "output_type": "execute_result"
    }
   ],
   "source": [
    "df.head()\n",
    "df.columns"
   ]
  },
  {
   "cell_type": "code",
   "execution_count": 30,
   "metadata": {},
   "outputs": [
    {
     "data": {
      "text/plain": [
       "Caucasian           199\n",
       "Asian               102\n",
       "African American     99\n",
       "Name: Ethnicity, dtype: int64"
      ]
     },
     "execution_count": 30,
     "metadata": {},
     "output_type": "execute_result"
    }
   ],
   "source": [
    "df['Ethnicity'].value_counts()"
   ]
  },
  {
   "cell_type": "code",
   "execution_count": 25,
   "metadata": {},
   "outputs": [],
   "source": [
    "df['AfricanAmerican'] = np.where(df['Ethnicity']=='African American',1,0)\n",
    "df['Asian'] = np.where(df['Ethnicity']=='Asian',1,0)"
   ]
  },
  {
   "cell_type": "markdown",
   "metadata": {},
   "source": [
    "## Ejercicio 2: Genere gráficos descriptivos para las variables contínuas\n",
    "\n",
    "* Genere una función llamada `plot_hist` que genere un histograma de la variable e indique la media y mediana de la misma. Agrege una legenda para indicar qué representa cada línea.\n",
    "* ¿Cuál es el comportamiento de `Balance`, `Income`, `Cards` y `Rating`?"
   ]
  },
  {
   "cell_type": "code",
   "execution_count": 63,
   "metadata": {},
   "outputs": [],
   "source": [
    "def plot_hist(variable):\n",
    "    plt.hist(df[variable], color='grey', alpha=.4)\n",
    "    plt.axvline(df[variable].mean(), color='dodgerblue', linestyle='--', lw=2, label='Media')\n",
    "    plt.axvline(df[variable].median(), color='tomato', linestyle='-', lw=2, label='Mediana')\n",
    "    plt.title('Distribución de la variable '+variable)\n",
    "    plt.legend()"
   ]
  },
  {
   "cell_type": "markdown",
   "metadata": {},
   "source": [
    "columnas = ['Balance','Income','Cards','Rating']"
   ]
  },
  {
   "cell_type": "code",
   "execution_count": 64,
   "metadata": {},
   "outputs": [
    {
     "data": {
      "image/png": "[encoded data removed]",
      "text/plain": [
       "<Figure size 720x432 with 4 Axes>"
      ]
     },
     "metadata": {},
     "output_type": "display_data"
    }
   ],
   "source": [
    "plt.figure(figsize=(10,6))\n",
    "for i, n in enumerate(columnas):\n",
    "    \n",
    "    plt.subplot(2,2,i+1)\n",
    "    plot_hist(n)\n",
    "    plt.tight_layout()"
   ]
  },
  {
   "cell_type": "markdown",
   "metadata": {},
   "source": [
    "Balance e Income, tienen un comportamiento similar, la mayor parte de los datos se acumula en los numeros mas bajos y se aleja de la media. Cards y Rating tienen un comportamiento donde la mayor parte de los datos se acumulan más cerca de la media."
   ]
  },
  {
   "cell_type": "markdown",
   "metadata": {},
   "source": [
    "## Ejercicio 3: Regresión Lineal Simple\n",
    "\n",
    "* A continuación generaremos una serie de modelos simples:\n",
    "\n",
    "![alttext](eq1.gif)\n",
    "\n",
    "* Utilizando `statsmodels`, comente brevemente los siguientes puntos:\n",
    "    - ¿Qué variable presenta un mayor poder explicativo de la variabilidad de `Balance`?\n",
    "    - ¿Qué podemos decir sobre el comportamiento de `Student`?\n",
    "        - ¿Qué pasa si aplicamos una prueba de hipótesis para muestras independientes de `Balance` entre aquellos que son y no son estudiantes?"
   ]
  },
  {
   "cell_type": "code",
   "execution_count": 47,
   "metadata": {},
   "outputs": [
    {
     "data": {
      "text/html": [
       "<table class=\"simpletable\">\n",
       "<caption>OLS Regression Results</caption>\n",
       "<tr>\n",
       "  <th>Dep. Variable:</th>         <td>Balance</td>     <th>  R-squared:         </th> <td>   0.067</td>\n",
       "</tr>\n",
       "<tr>\n",
       "  <th>Model:</th>                   <td>OLS</td>       <th>  Adj. R-squared:    </th> <td>   0.065</td>\n",
       "</tr>\n",
       "<tr>\n",
       "  <th>Method:</th>             <td>Least Squares</td>  <th>  F-statistic:       </th> <td>   28.62</td>\n",
       "</tr>\n",
       "<tr>\n",
       "  <th>Date:</th>             <td>Tue, 17 Jul 2018</td> <th>  Prob (F-statistic):</th> <td>1.49e-07</td>\n",
       "</tr>\n",
       "<tr>\n",
       "  <th>Time:</th>                 <td>20:15:08</td>     <th>  Log-Likelihood:    </th> <td> -3005.5</td>\n",
       "</tr>\n",
       "<tr>\n",
       "  <th>No. Observations:</th>      <td>   400</td>      <th>  AIC:               </th> <td>   6015.</td>\n",
       "</tr>\n",
       "<tr>\n",
       "  <th>Df Residuals:</th>          <td>   398</td>      <th>  BIC:               </th> <td>   6023.</td>\n",
       "</tr>\n",
       "<tr>\n",
       "  <th>Df Model:</th>              <td>     1</td>      <th>                     </th>     <td> </td>   \n",
       "</tr>\n",
       "<tr>\n",
       "  <th>Covariance Type:</th>      <td>nonrobust</td>    <th>                     </th>     <td> </td>   \n",
       "</tr>\n",
       "</table>\n",
       "<table class=\"simpletable\">\n",
       "<tr>\n",
       "         <td></td>           <th>coef</th>     <th>std err</th>      <th>t</th>      <th>P>|t|</th>  <th>[0.025</th>    <th>0.975]</th>  \n",
       "</tr>\n",
       "<tr>\n",
       "  <th>Intercept</th>      <td>  480.3694</td> <td>   23.434</td> <td>   20.499</td> <td> 0.000</td> <td>  434.300</td> <td>  526.439</td>\n",
       "</tr>\n",
       "<tr>\n",
       "  <th>Student[T.Yes]</th> <td>  396.4556</td> <td>   74.104</td> <td>    5.350</td> <td> 0.000</td> <td>  250.771</td> <td>  542.140</td>\n",
       "</tr>\n",
       "</table>\n",
       "<table class=\"simpletable\">\n",
       "<tr>\n",
       "  <th>Omnibus:</th>       <td>20.866</td> <th>  Durbin-Watson:     </th> <td>   1.950</td>\n",
       "</tr>\n",
       "<tr>\n",
       "  <th>Prob(Omnibus):</th> <td> 0.000</td> <th>  Jarque-Bera (JB):  </th> <td>  21.920</td>\n",
       "</tr>\n",
       "<tr>\n",
       "  <th>Skew:</th>          <td> 0.544</td> <th>  Prob(JB):          </th> <td>1.74e-05</td>\n",
       "</tr>\n",
       "<tr>\n",
       "  <th>Kurtosis:</th>      <td> 2.637</td> <th>  Cond. No.          </th> <td>    3.37</td>\n",
       "</tr>\n",
       "</table><br/><br/>Warnings:<br/>[1] Standard Errors assume that the covariance matrix of the errors is correctly specified."
      ],
      "text/plain": [
       "<class 'statsmodels.iolib.summary.Summary'>\n",
       "\"\"\"\n",
       "                            OLS Regression Results                            \n",
       "==============================================================================\n",
       "Dep. Variable:                Balance   R-squared:                       0.067\n",
       "Model:                            OLS   Adj. R-squared:                  0.065\n",
       "Method:                 Least Squares   F-statistic:                     28.62\n",
       "Date:                Tue, 17 Jul 2018   Prob (F-statistic):           1.49e-07\n",
       "Time:                        20:15:08   Log-Likelihood:                -3005.5\n",
       "No. Observations:                 400   AIC:                             6015.\n",
       "Df Residuals:                     398   BIC:                             6023.\n",
       "Df Model:                           1                                         \n",
       "Covariance Type:            nonrobust                                         \n",
       "==================================================================================\n",
       "                     coef    std err          t      P>|t|      [0.025      0.975]\n",
       "----------------------------------------------------------------------------------\n",
       "Intercept        480.3694     23.434     20.499      0.000     434.300     526.439\n",
       "Student[T.Yes]   396.4556     74.104      5.350      0.000     250.771     542.140\n",
       "==============================================================================\n",
       "Omnibus:                       20.866   Durbin-Watson:                   1.950\n",
       "Prob(Omnibus):                  0.000   Jarque-Bera (JB):               21.920\n",
       "Skew:                           0.544   Prob(JB):                     1.74e-05\n",
       "Kurtosis:                       2.637   Cond. No.                         3.37\n",
       "==============================================================================\n",
       "\n",
       "Warnings:\n",
       "[1] Standard Errors assume that the covariance matrix of the errors is correctly specified.\n",
       "\"\"\""
      ]
     },
     "execution_count": 47,
     "metadata": {},
     "output_type": "execute_result"
    }
   ],
   "source": [
    "model1 = smf.ols('Balance ~ Student', data=df)\n",
    "model1 = model1.fit()\n",
    "model1.summary()"
   ]
  },
  {
   "cell_type": "code",
   "execution_count": 48,
   "metadata": {},
   "outputs": [
    {
     "data": {
      "text/html": [
       "<table class=\"simpletable\">\n",
       "<caption>OLS Regression Results</caption>\n",
       "<tr>\n",
       "  <th>Dep. Variable:</th>         <td>Balance</td>     <th>  R-squared:         </th> <td>   0.215</td>\n",
       "</tr>\n",
       "<tr>\n",
       "  <th>Model:</th>                   <td>OLS</td>       <th>  Adj. R-squared:    </th> <td>   0.213</td>\n",
       "</tr>\n",
       "<tr>\n",
       "  <th>Method:</th>             <td>Least Squares</td>  <th>  F-statistic:       </th> <td>   109.0</td>\n",
       "</tr>\n",
       "<tr>\n",
       "  <th>Date:</th>             <td>Tue, 17 Jul 2018</td> <th>  Prob (F-statistic):</th> <td>1.03e-22</td>\n",
       "</tr>\n",
       "<tr>\n",
       "  <th>Time:</th>                 <td>20:16:03</td>     <th>  Log-Likelihood:    </th> <td> -2970.9</td>\n",
       "</tr>\n",
       "<tr>\n",
       "  <th>No. Observations:</th>      <td>   400</td>      <th>  AIC:               </th> <td>   5946.</td>\n",
       "</tr>\n",
       "<tr>\n",
       "  <th>Df Residuals:</th>          <td>   398</td>      <th>  BIC:               </th> <td>   5954.</td>\n",
       "</tr>\n",
       "<tr>\n",
       "  <th>Df Model:</th>              <td>     1</td>      <th>                     </th>     <td> </td>   \n",
       "</tr>\n",
       "<tr>\n",
       "  <th>Covariance Type:</th>      <td>nonrobust</td>    <th>                     </th>     <td> </td>   \n",
       "</tr>\n",
       "</table>\n",
       "<table class=\"simpletable\">\n",
       "<tr>\n",
       "      <td></td>         <th>coef</th>     <th>std err</th>      <th>t</th>      <th>P>|t|</th>  <th>[0.025</th>    <th>0.975]</th>  \n",
       "</tr>\n",
       "<tr>\n",
       "  <th>Intercept</th> <td>  246.5148</td> <td>   33.199</td> <td>    7.425</td> <td> 0.000</td> <td>  181.247</td> <td>  311.783</td>\n",
       "</tr>\n",
       "<tr>\n",
       "  <th>Income</th>    <td>    6.0484</td> <td>    0.579</td> <td>   10.440</td> <td> 0.000</td> <td>    4.909</td> <td>    7.187</td>\n",
       "</tr>\n",
       "</table>\n",
       "<table class=\"simpletable\">\n",
       "<tr>\n",
       "  <th>Omnibus:</th>       <td>42.505</td> <th>  Durbin-Watson:     </th> <td>   1.951</td>\n",
       "</tr>\n",
       "<tr>\n",
       "  <th>Prob(Omnibus):</th> <td> 0.000</td> <th>  Jarque-Bera (JB):  </th> <td>  20.975</td>\n",
       "</tr>\n",
       "<tr>\n",
       "  <th>Skew:</th>          <td> 0.384</td> <th>  Prob(JB):          </th> <td>2.79e-05</td>\n",
       "</tr>\n",
       "<tr>\n",
       "  <th>Kurtosis:</th>      <td> 2.182</td> <th>  Cond. No.          </th> <td>    93.3</td>\n",
       "</tr>\n",
       "</table><br/><br/>Warnings:<br/>[1] Standard Errors assume that the covariance matrix of the errors is correctly specified."
      ],
      "text/plain": [
       "<class 'statsmodels.iolib.summary.Summary'>\n",
       "\"\"\"\n",
       "                            OLS Regression Results                            \n",
       "==============================================================================\n",
       "Dep. Variable:                Balance   R-squared:                       0.215\n",
       "Model:                            OLS   Adj. R-squared:                  0.213\n",
       "Method:                 Least Squares   F-statistic:                     109.0\n",
       "Date:                Tue, 17 Jul 2018   Prob (F-statistic):           1.03e-22\n",
       "Time:                        20:16:03   Log-Likelihood:                -2970.9\n",
       "No. Observations:                 400   AIC:                             5946.\n",
       "Df Residuals:                     398   BIC:                             5954.\n",
       "Df Model:                           1                                         \n",
       "Covariance Type:            nonrobust                                         \n",
       "==============================================================================\n",
       "                 coef    std err          t      P>|t|      [0.025      0.975]\n",
       "------------------------------------------------------------------------------\n",
       "Intercept    246.5148     33.199      7.425      0.000     181.247     311.783\n",
       "Income         6.0484      0.579     10.440      0.000       4.909       7.187\n",
       "==============================================================================\n",
       "Omnibus:                       42.505   Durbin-Watson:                   1.951\n",
       "Prob(Omnibus):                  0.000   Jarque-Bera (JB):               20.975\n",
       "Skew:                           0.384   Prob(JB):                     2.79e-05\n",
       "Kurtosis:                       2.182   Cond. No.                         93.3\n",
       "==============================================================================\n",
       "\n",
       "Warnings:\n",
       "[1] Standard Errors assume that the covariance matrix of the errors is correctly specified.\n",
       "\"\"\""
      ]
     },
     "execution_count": 48,
     "metadata": {},
     "output_type": "execute_result"
    }
   ],
   "source": [
    "model2 = smf.ols('Balance ~ Income', data=df)\n",
    "model2 = model2.fit()\n",
    "model2.summary()"
   ]
  },
  {
   "cell_type": "code",
   "execution_count": 65,
   "metadata": {},
   "outputs": [
    {
     "data": {
      "text/html": [
       "<table class=\"simpletable\">\n",
       "<caption>OLS Regression Results</caption>\n",
       "<tr>\n",
       "  <th>Dep. Variable:</th>         <td>Balance</td>     <th>  R-squared:         </th> <td>   0.746</td> \n",
       "</tr>\n",
       "<tr>\n",
       "  <th>Model:</th>                   <td>OLS</td>       <th>  Adj. R-squared:    </th> <td>   0.745</td> \n",
       "</tr>\n",
       "<tr>\n",
       "  <th>Method:</th>             <td>Least Squares</td>  <th>  F-statistic:       </th> <td>   1168.</td> \n",
       "</tr>\n",
       "<tr>\n",
       "  <th>Date:</th>             <td>Tue, 17 Jul 2018</td> <th>  Prob (F-statistic):</th> <td>1.90e-120</td>\n",
       "</tr>\n",
       "<tr>\n",
       "  <th>Time:</th>                 <td>20:43:33</td>     <th>  Log-Likelihood:    </th> <td> -2745.4</td> \n",
       "</tr>\n",
       "<tr>\n",
       "  <th>No. Observations:</th>      <td>   400</td>      <th>  AIC:               </th> <td>   5495.</td> \n",
       "</tr>\n",
       "<tr>\n",
       "  <th>Df Residuals:</th>          <td>   398</td>      <th>  BIC:               </th> <td>   5503.</td> \n",
       "</tr>\n",
       "<tr>\n",
       "  <th>Df Model:</th>              <td>     1</td>      <th>                     </th>     <td> </td>    \n",
       "</tr>\n",
       "<tr>\n",
       "  <th>Covariance Type:</th>      <td>nonrobust</td>    <th>                     </th>     <td> </td>    \n",
       "</tr>\n",
       "</table>\n",
       "<table class=\"simpletable\">\n",
       "<tr>\n",
       "      <td></td>         <th>coef</th>     <th>std err</th>      <th>t</th>      <th>P>|t|</th>  <th>[0.025</th>    <th>0.975]</th>  \n",
       "</tr>\n",
       "<tr>\n",
       "  <th>Intercept</th> <td> -390.8463</td> <td>   29.069</td> <td>  -13.446</td> <td> 0.000</td> <td> -447.993</td> <td> -333.699</td>\n",
       "</tr>\n",
       "<tr>\n",
       "  <th>Rating</th>    <td>    2.5662</td> <td>    0.075</td> <td>   34.176</td> <td> 0.000</td> <td>    2.419</td> <td>    2.714</td>\n",
       "</tr>\n",
       "</table>\n",
       "<table class=\"simpletable\">\n",
       "<tr>\n",
       "  <th>Omnibus:</th>       <td>23.223</td> <th>  Durbin-Watson:     </th> <td>   1.966</td>\n",
       "</tr>\n",
       "<tr>\n",
       "  <th>Prob(Omnibus):</th> <td> 0.000</td> <th>  Jarque-Bera (JB):  </th> <td>  38.802</td>\n",
       "</tr>\n",
       "<tr>\n",
       "  <th>Skew:</th>          <td> 0.390</td> <th>  Prob(JB):          </th> <td>3.75e-09</td>\n",
       "</tr>\n",
       "<tr>\n",
       "  <th>Kurtosis:</th>      <td> 4.311</td> <th>  Cond. No.          </th> <td>    970.</td>\n",
       "</tr>\n",
       "</table><br/><br/>Warnings:<br/>[1] Standard Errors assume that the covariance matrix of the errors is correctly specified."
      ],
      "text/plain": [
       "<class 'statsmodels.iolib.summary.Summary'>\n",
       "\"\"\"\n",
       "                            OLS Regression Results                            \n",
       "==============================================================================\n",
       "Dep. Variable:                Balance   R-squared:                       0.746\n",
       "Model:                            OLS   Adj. R-squared:                  0.745\n",
       "Method:                 Least Squares   F-statistic:                     1168.\n",
       "Date:                Tue, 17 Jul 2018   Prob (F-statistic):          1.90e-120\n",
       "Time:                        20:43:33   Log-Likelihood:                -2745.4\n",
       "No. Observations:                 400   AIC:                             5495.\n",
       "Df Residuals:                     398   BIC:                             5503.\n",
       "Df Model:                           1                                         \n",
       "Covariance Type:            nonrobust                                         \n",
       "==============================================================================\n",
       "                 coef    std err          t      P>|t|      [0.025      0.975]\n",
       "------------------------------------------------------------------------------\n",
       "Intercept   -390.8463     29.069    -13.446      0.000    -447.993    -333.699\n",
       "Rating         2.5662      0.075     34.176      0.000       2.419       2.714\n",
       "==============================================================================\n",
       "Omnibus:                       23.223   Durbin-Watson:                   1.966\n",
       "Prob(Omnibus):                  0.000   Jarque-Bera (JB):               38.802\n",
       "Skew:                           0.390   Prob(JB):                     3.75e-09\n",
       "Kurtosis:                       4.311   Cond. No.                         970.\n",
       "==============================================================================\n",
       "\n",
       "Warnings:\n",
       "[1] Standard Errors assume that the covariance matrix of the errors is correctly specified.\n",
       "\"\"\""
      ]
     },
     "execution_count": 65,
     "metadata": {},
     "output_type": "execute_result"
    }
   ],
   "source": [
    "model3 = smf.ols('Balance ~ Rating', data=df)\n",
    "model3 = model3.fit()\n",
    "model3.summary()"
   ]
  },
  {
   "cell_type": "markdown",
   "metadata": {},
   "source": [
    "El ranking crediticio tiene mayor poder explicativo, dado que su R^2 es mayor"
   ]
  },
  {
   "cell_type": "code",
   "execution_count": 55,
   "metadata": {},
   "outputs": [],
   "source": [
    "def prueba_hipotesis(df, variable, binarize):\n",
    "    df1 = df[variable][df[binarize]=='Yes'].dropna()\n",
    "    df2 = df[variable][df[binarize]=='No'].dropna()\n",
    "    print(variable, binarize)\n",
    "    print('La media de',binarize,'es',df1.mean())\n",
    "    print('La media de los que no son',binarize ,df2.mean())\n",
    "    print('La diferencia de las medias es',(df1.mean() - df2.mean()))\n",
    "    valorz, valorp = stats.ttest_ind(df1,df2)\n",
    "    print('El valor z es', valorz)\n",
    "    print('El valor p es', valorp)\n",
    "    print('\\n')"
   ]
  },
  {
   "cell_type": "code",
   "execution_count": 54,
   "metadata": {},
   "outputs": [
    {
     "name": "stdout",
     "output_type": "stream",
     "text": [
      "Balance Student\n",
      "La media de Student es 876.825\n",
      "La media de los que no son Balance 480.36944444444447\n",
      "La diferencia de las medias es 396.4555555555556\n",
      "El valor z es 5.349964123075003\n",
      "El valor p es 1.4877341077323024e-07\n",
      "\n",
      "\n"
     ]
    }
   ],
   "source": [
    "prueba_hipotesis(df,'Balance','Student')"
   ]
  },
  {
   "cell_type": "markdown",
   "metadata": {},
   "source": [
    "Haciendo la prueba de hipótesis me entrega el mismo valor z y p. Es decir, si es signficativa la diferencia entre ambas"
   ]
  },
  {
   "cell_type": "markdown",
   "metadata": {},
   "source": [
    "## Ejercicio 4: Genere un modelo que incluya todos los regresores\n",
    "\n",
    "![alttext](eq2.gif)\n",
    "\n",
    "* Comente brevemente sobre el poder explicativo en la varianza de $y$ y las principales características de los predictores."
   ]
  },
  {
   "cell_type": "code",
   "execution_count": 71,
   "metadata": {},
   "outputs": [
    {
     "data": {
      "text/html": [
       "<table class=\"simpletable\">\n",
       "<caption>OLS Regression Results</caption>\n",
       "<tr>\n",
       "  <th>Dep. Variable:</th>         <td>Balance</td>     <th>  R-squared:         </th> <td>   0.955</td> \n",
       "</tr>\n",
       "<tr>\n",
       "  <th>Model:</th>                   <td>OLS</td>       <th>  Adj. R-squared:    </th> <td>   0.954</td> \n",
       "</tr>\n",
       "<tr>\n",
       "  <th>Method:</th>             <td>Least Squares</td>  <th>  F-statistic:       </th> <td>   750.3</td> \n",
       "</tr>\n",
       "<tr>\n",
       "  <th>Date:</th>             <td>Tue, 17 Jul 2018</td> <th>  Prob (F-statistic):</th> <td>1.11e-253</td>\n",
       "</tr>\n",
       "<tr>\n",
       "  <th>Time:</th>                 <td>20:49:37</td>     <th>  Log-Likelihood:    </th> <td> -2398.7</td> \n",
       "</tr>\n",
       "<tr>\n",
       "  <th>No. Observations:</th>      <td>   400</td>      <th>  AIC:               </th> <td>   4821.</td> \n",
       "</tr>\n",
       "<tr>\n",
       "  <th>Df Residuals:</th>          <td>   388</td>      <th>  BIC:               </th> <td>   4869.</td> \n",
       "</tr>\n",
       "<tr>\n",
       "  <th>Df Model:</th>              <td>    11</td>      <th>                     </th>     <td> </td>    \n",
       "</tr>\n",
       "<tr>\n",
       "  <th>Covariance Type:</th>      <td>nonrobust</td>    <th>                     </th>     <td> </td>    \n",
       "</tr>\n",
       "</table>\n",
       "<table class=\"simpletable\">\n",
       "<tr>\n",
       "             <td></td>               <th>coef</th>     <th>std err</th>      <th>t</th>      <th>P>|t|</th>  <th>[0.025</th>    <th>0.975]</th>  \n",
       "</tr>\n",
       "<tr>\n",
       "  <th>Intercept</th>              <td> -337.0030</td> <td>   24.650</td> <td>  -13.672</td> <td> 0.000</td> <td> -385.466</td> <td> -288.540</td>\n",
       "</tr>\n",
       "<tr>\n",
       "  <th>Gender[T.Female]</th>       <td>  -10.6532</td> <td>    9.914</td> <td>   -1.075</td> <td> 0.283</td> <td>  -30.145</td> <td>    8.839</td>\n",
       "</tr>\n",
       "<tr>\n",
       "  <th>Student[T.Yes]</th>         <td>  425.7474</td> <td>   16.723</td> <td>   25.459</td> <td> 0.000</td> <td>  392.869</td> <td>  458.626</td>\n",
       "</tr>\n",
       "<tr>\n",
       "  <th>Married[T.Yes]</th>         <td>   -8.5339</td> <td>   10.363</td> <td>   -0.824</td> <td> 0.411</td> <td>  -28.908</td> <td>   11.841</td>\n",
       "</tr>\n",
       "<tr>\n",
       "  <th>Ethnicity[T.Asian]</th>     <td>  -62.7003</td> <td>    6.601</td> <td>   -9.498</td> <td> 0.000</td> <td>  -75.679</td> <td>  -49.722</td>\n",
       "</tr>\n",
       "<tr>\n",
       "  <th>Ethnicity[T.Caucasian]</th> <td> -132.0978</td> <td>   11.310</td> <td>  -11.679</td> <td> 0.000</td> <td> -154.335</td> <td> -109.860</td>\n",
       "</tr>\n",
       "<tr>\n",
       "  <th>Income</th>                 <td>   -7.8031</td> <td>    0.234</td> <td>  -33.314</td> <td> 0.000</td> <td>   -8.264</td> <td>   -7.343</td>\n",
       "</tr>\n",
       "<tr>\n",
       "  <th>Limit</th>                  <td>    0.1909</td> <td>    0.033</td> <td>    5.824</td> <td> 0.000</td> <td>    0.126</td> <td>    0.255</td>\n",
       "</tr>\n",
       "<tr>\n",
       "  <th>Rating</th>                 <td>    1.1365</td> <td>    0.491</td> <td>    2.315</td> <td> 0.021</td> <td>    0.171</td> <td>    2.102</td>\n",
       "</tr>\n",
       "<tr>\n",
       "  <th>Cards</th>                  <td>   17.7245</td> <td>    4.341</td> <td>    4.083</td> <td> 0.000</td> <td>    9.190</td> <td>   26.259</td>\n",
       "</tr>\n",
       "<tr>\n",
       "  <th>Age</th>                    <td>   -0.6139</td> <td>    0.294</td> <td>   -2.088</td> <td> 0.037</td> <td>   -1.192</td> <td>   -0.036</td>\n",
       "</tr>\n",
       "<tr>\n",
       "  <th>Education</th>              <td>   -1.0989</td> <td>    1.598</td> <td>   -0.688</td> <td> 0.492</td> <td>   -4.241</td> <td>    2.043</td>\n",
       "</tr>\n",
       "<tr>\n",
       "  <th>AfricanAmerican</th>        <td> -142.2049</td> <td>   12.524</td> <td>  -11.354</td> <td> 0.000</td> <td> -166.829</td> <td> -117.581</td>\n",
       "</tr>\n",
       "<tr>\n",
       "  <th>Asian</th>                  <td>  -62.7003</td> <td>    6.601</td> <td>   -9.498</td> <td> 0.000</td> <td>  -75.679</td> <td>  -49.722</td>\n",
       "</tr>\n",
       "</table>\n",
       "<table class=\"simpletable\">\n",
       "<tr>\n",
       "  <th>Omnibus:</th>       <td>34.899</td> <th>  Durbin-Watson:     </th> <td>   1.968</td>\n",
       "</tr>\n",
       "<tr>\n",
       "  <th>Prob(Omnibus):</th> <td> 0.000</td> <th>  Jarque-Bera (JB):  </th> <td>  41.766</td>\n",
       "</tr>\n",
       "<tr>\n",
       "  <th>Skew:</th>          <td> 0.782</td> <th>  Prob(JB):          </th> <td>8.52e-10</td>\n",
       "</tr>\n",
       "<tr>\n",
       "  <th>Kurtosis:</th>      <td> 3.241</td> <th>  Cond. No.          </th> <td>1.43e+19</td>\n",
       "</tr>\n",
       "</table><br/><br/>Warnings:<br/>[1] Standard Errors assume that the covariance matrix of the errors is correctly specified.<br/>[2] The smallest eigenvalue is 5.44e-29. This might indicate that there are<br/>strong multicollinearity problems or that the design matrix is singular."
      ],
      "text/plain": [
       "<class 'statsmodels.iolib.summary.Summary'>\n",
       "\"\"\"\n",
       "                            OLS Regression Results                            \n",
       "==============================================================================\n",
       "Dep. Variable:                Balance   R-squared:                       0.955\n",
       "Model:                            OLS   Adj. R-squared:                  0.954\n",
       "Method:                 Least Squares   F-statistic:                     750.3\n",
       "Date:                Tue, 17 Jul 2018   Prob (F-statistic):          1.11e-253\n",
       "Time:                        20:49:37   Log-Likelihood:                -2398.7\n",
       "No. Observations:                 400   AIC:                             4821.\n",
       "Df Residuals:                     388   BIC:                             4869.\n",
       "Df Model:                          11                                         \n",
       "Covariance Type:            nonrobust                                         \n",
       "==========================================================================================\n",
       "                             coef    std err          t      P>|t|      [0.025      0.975]\n",
       "------------------------------------------------------------------------------------------\n",
       "Intercept               -337.0030     24.650    -13.672      0.000    -385.466    -288.540\n",
       "Gender[T.Female]         -10.6532      9.914     -1.075      0.283     -30.145       8.839\n",
       "Student[T.Yes]           425.7474     16.723     25.459      0.000     392.869     458.626\n",
       "Married[T.Yes]            -8.5339     10.363     -0.824      0.411     -28.908      11.841\n",
       "Ethnicity[T.Asian]       -62.7003      6.601     -9.498      0.000     -75.679     -49.722\n",
       "Ethnicity[T.Caucasian]  -132.0978     11.310    -11.679      0.000    -154.335    -109.860\n",
       "Income                    -7.8031      0.234    -33.314      0.000      -8.264      -7.343\n",
       "Limit                      0.1909      0.033      5.824      0.000       0.126       0.255\n",
       "Rating                     1.1365      0.491      2.315      0.021       0.171       2.102\n",
       "Cards                     17.7245      4.341      4.083      0.000       9.190      26.259\n",
       "Age                       -0.6139      0.294     -2.088      0.037      -1.192      -0.036\n",
       "Education                 -1.0989      1.598     -0.688      0.492      -4.241       2.043\n",
       "AfricanAmerican         -142.2049     12.524    -11.354      0.000    -166.829    -117.581\n",
       "Asian                    -62.7003      6.601     -9.498      0.000     -75.679     -49.722\n",
       "==============================================================================\n",
       "Omnibus:                       34.899   Durbin-Watson:                   1.968\n",
       "Prob(Omnibus):                  0.000   Jarque-Bera (JB):               41.766\n",
       "Skew:                           0.782   Prob(JB):                     8.52e-10\n",
       "Kurtosis:                       3.241   Cond. No.                     1.43e+19\n",
       "==============================================================================\n",
       "\n",
       "Warnings:\n",
       "[1] Standard Errors assume that the covariance matrix of the errors is correctly specified.\n",
       "[2] The smallest eigenvalue is 5.44e-29. This might indicate that there are\n",
       "strong multicollinearity problems or that the design matrix is singular.\n",
       "\"\"\""
      ]
     },
     "execution_count": 71,
     "metadata": {},
     "output_type": "execute_result"
    }
   ],
   "source": [
    "model4 = smf.ols('Balance ~ Income + Limit + Rating + Cards + Age + Education + Gender + Student + Married + Ethnicity  + AfricanAmerican + Asian', data=df)\n",
    "model4 = model4.fit()\n",
    "model4.summary()"
   ]
  },
  {
   "cell_type": "markdown",
   "metadata": {},
   "source": [
    "## Ejercicio 5: Depure el modelo e incluya sólo los predictores significativo\n",
    "\n",
    "* En base al modelo anterior, refactorize e incluya sólo las variables con un nivel de significancia $p-value\\leq.025$. Comente brevemente sobre el poder explicativo en la varianza de $y$ y las principales características de los predictores.\n",
    "* ¿Mejoró o empeoró el modelo con la reducción de regresores?  \n"
   ]
  },
  {
   "cell_type": "code",
   "execution_count": 74,
   "metadata": {
    "scrolled": true
   },
   "outputs": [
    {
     "data": {
      "text/html": [
       "<table class=\"simpletable\">\n",
       "<caption>OLS Regression Results</caption>\n",
       "<tr>\n",
       "  <th>Dep. Variable:</th>         <td>Balance</td>     <th>  R-squared:         </th> <td>   0.955</td> \n",
       "</tr>\n",
       "<tr>\n",
       "  <th>Model:</th>                   <td>OLS</td>       <th>  Adj. R-squared:    </th> <td>   0.954</td> \n",
       "</tr>\n",
       "<tr>\n",
       "  <th>Method:</th>             <td>Least Squares</td>  <th>  F-statistic:       </th> <td>   1033.</td> \n",
       "</tr>\n",
       "<tr>\n",
       "  <th>Date:</th>             <td>Tue, 17 Jul 2018</td> <th>  Prob (F-statistic):</th> <td>1.21e-257</td>\n",
       "</tr>\n",
       "<tr>\n",
       "  <th>Time:</th>                 <td>20:56:05</td>     <th>  Log-Likelihood:    </th> <td> -2399.9</td> \n",
       "</tr>\n",
       "<tr>\n",
       "  <th>No. Observations:</th>      <td>   400</td>      <th>  AIC:               </th> <td>   4818.</td> \n",
       "</tr>\n",
       "<tr>\n",
       "  <th>Df Residuals:</th>          <td>   391</td>      <th>  BIC:               </th> <td>   4854.</td> \n",
       "</tr>\n",
       "<tr>\n",
       "  <th>Df Model:</th>              <td>     8</td>      <th>                     </th>     <td> </td>    \n",
       "</tr>\n",
       "<tr>\n",
       "  <th>Covariance Type:</th>      <td>nonrobust</td>    <th>                     </th>     <td> </td>    \n",
       "</tr>\n",
       "</table>\n",
       "<table class=\"simpletable\">\n",
       "<tr>\n",
       "         <td></td>            <th>coef</th>     <th>std err</th>      <th>t</th>      <th>P>|t|</th>  <th>[0.025</th>    <th>0.975]</th>  \n",
       "</tr>\n",
       "<tr>\n",
       "  <th>Intercept</th>       <td> -494.8553</td> <td>   25.500</td> <td>  -19.406</td> <td> 0.000</td> <td> -544.991</td> <td> -444.720</td>\n",
       "</tr>\n",
       "<tr>\n",
       "  <th>Student[T.Yes]</th>  <td>  425.1887</td> <td>   16.557</td> <td>   25.681</td> <td> 0.000</td> <td>  392.638</td> <td>  457.740</td>\n",
       "</tr>\n",
       "<tr>\n",
       "  <th>Income</th>          <td>   -7.7964</td> <td>    0.234</td> <td>  -33.350</td> <td> 0.000</td> <td>   -8.256</td> <td>   -7.337</td>\n",
       "</tr>\n",
       "<tr>\n",
       "  <th>Limit</th>           <td>    0.1923</td> <td>    0.032</td> <td>    5.920</td> <td> 0.000</td> <td>    0.128</td> <td>    0.256</td>\n",
       "</tr>\n",
       "<tr>\n",
       "  <th>Rating</th>          <td>    1.1141</td> <td>    0.486</td> <td>    2.291</td> <td> 0.022</td> <td>    0.158</td> <td>    2.070</td>\n",
       "</tr>\n",
       "<tr>\n",
       "  <th>Cards</th>           <td>   18.0768</td> <td>    4.327</td> <td>    4.177</td> <td> 0.000</td> <td>    9.569</td> <td>   26.585</td>\n",
       "</tr>\n",
       "<tr>\n",
       "  <th>Age</th>             <td>   -0.6024</td> <td>    0.293</td> <td>   -2.057</td> <td> 0.040</td> <td>   -1.178</td> <td>   -0.027</td>\n",
       "</tr>\n",
       "<tr>\n",
       "  <th>AfricanAmerican</th> <td>   -9.4608</td> <td>   12.160</td> <td>   -0.778</td> <td> 0.437</td> <td>  -33.369</td> <td>   14.447</td>\n",
       "</tr>\n",
       "<tr>\n",
       "  <th>Asian</th>           <td>    5.5200</td> <td>   12.080</td> <td>    0.457</td> <td> 0.648</td> <td>  -18.230</td> <td>   29.270</td>\n",
       "</tr>\n",
       "</table>\n",
       "<table class=\"simpletable\">\n",
       "<tr>\n",
       "  <th>Omnibus:</th>       <td>34.509</td> <th>  Durbin-Watson:     </th> <td>   1.963</td>\n",
       "</tr>\n",
       "<tr>\n",
       "  <th>Prob(Omnibus):</th> <td> 0.000</td> <th>  Jarque-Bera (JB):  </th> <td>  41.184</td>\n",
       "</tr>\n",
       "<tr>\n",
       "  <th>Skew:</th>          <td> 0.777</td> <th>  Prob(JB):          </th> <td>1.14e-09</td>\n",
       "</tr>\n",
       "<tr>\n",
       "  <th>Kurtosis:</th>      <td> 3.243</td> <th>  Cond. No.          </th> <td>2.76e+04</td>\n",
       "</tr>\n",
       "</table><br/><br/>Warnings:<br/>[1] Standard Errors assume that the covariance matrix of the errors is correctly specified.<br/>[2] The condition number is large, 2.76e+04. This might indicate that there are<br/>strong multicollinearity or other numerical problems."
      ],
      "text/plain": [
       "<class 'statsmodels.iolib.summary.Summary'>\n",
       "\"\"\"\n",
       "                            OLS Regression Results                            \n",
       "==============================================================================\n",
       "Dep. Variable:                Balance   R-squared:                       0.955\n",
       "Model:                            OLS   Adj. R-squared:                  0.954\n",
       "Method:                 Least Squares   F-statistic:                     1033.\n",
       "Date:                Tue, 17 Jul 2018   Prob (F-statistic):          1.21e-257\n",
       "Time:                        20:56:05   Log-Likelihood:                -2399.9\n",
       "No. Observations:                 400   AIC:                             4818.\n",
       "Df Residuals:                     391   BIC:                             4854.\n",
       "Df Model:                           8                                         \n",
       "Covariance Type:            nonrobust                                         \n",
       "===================================================================================\n",
       "                      coef    std err          t      P>|t|      [0.025      0.975]\n",
       "-----------------------------------------------------------------------------------\n",
       "Intercept        -494.8553     25.500    -19.406      0.000    -544.991    -444.720\n",
       "Student[T.Yes]    425.1887     16.557     25.681      0.000     392.638     457.740\n",
       "Income             -7.7964      0.234    -33.350      0.000      -8.256      -7.337\n",
       "Limit               0.1923      0.032      5.920      0.000       0.128       0.256\n",
       "Rating              1.1141      0.486      2.291      0.022       0.158       2.070\n",
       "Cards              18.0768      4.327      4.177      0.000       9.569      26.585\n",
       "Age                -0.6024      0.293     -2.057      0.040      -1.178      -0.027\n",
       "AfricanAmerican    -9.4608     12.160     -0.778      0.437     -33.369      14.447\n",
       "Asian               5.5200     12.080      0.457      0.648     -18.230      29.270\n",
       "==============================================================================\n",
       "Omnibus:                       34.509   Durbin-Watson:                   1.963\n",
       "Prob(Omnibus):                  0.000   Jarque-Bera (JB):               41.184\n",
       "Skew:                           0.777   Prob(JB):                     1.14e-09\n",
       "Kurtosis:                       3.243   Cond. No.                     2.76e+04\n",
       "==============================================================================\n",
       "\n",
       "Warnings:\n",
       "[1] Standard Errors assume that the covariance matrix of the errors is correctly specified.\n",
       "[2] The condition number is large, 2.76e+04. This might indicate that there are\n",
       "strong multicollinearity or other numerical problems.\n",
       "\"\"\""
      ]
     },
     "execution_count": 74,
     "metadata": {},
     "output_type": "execute_result"
    }
   ],
   "source": [
    "model4 = smf.ols('Balance ~ Income + Limit + Rating + Cards + Age + Student + AfricanAmerican + Asian', data=df)\n",
    "model4 = model4.fit()\n",
    "model4.summary()"
   ]
  },
  {
   "cell_type": "markdown",
   "metadata": {},
   "source": [
    "Elimino AfricanAmerican y Asian que no son significativos"
   ]
  },
  {
   "cell_type": "code",
   "execution_count": 82,
   "metadata": {},
   "outputs": [
    {
     "data": {
      "text/html": [
       "<table class=\"simpletable\">\n",
       "<caption>OLS Regression Results</caption>\n",
       "<tr>\n",
       "  <th>Dep. Variable:</th>         <td>Balance</td>     <th>  R-squared:         </th> <td>   0.955</td> \n",
       "</tr>\n",
       "<tr>\n",
       "  <th>Model:</th>                   <td>OLS</td>       <th>  Adj. R-squared:    </th> <td>   0.954</td> \n",
       "</tr>\n",
       "<tr>\n",
       "  <th>Method:</th>             <td>Least Squares</td>  <th>  F-statistic:       </th> <td>   1380.</td> \n",
       "</tr>\n",
       "<tr>\n",
       "  <th>Date:</th>             <td>Tue, 17 Jul 2018</td> <th>  Prob (F-statistic):</th> <td>1.58e-260</td>\n",
       "</tr>\n",
       "<tr>\n",
       "  <th>Time:</th>                 <td>21:15:44</td>     <th>  Log-Likelihood:    </th> <td> -2400.5</td> \n",
       "</tr>\n",
       "<tr>\n",
       "  <th>No. Observations:</th>      <td>   400</td>      <th>  AIC:               </th> <td>   4815.</td> \n",
       "</tr>\n",
       "<tr>\n",
       "  <th>Df Residuals:</th>          <td>   393</td>      <th>  BIC:               </th> <td>   4843.</td> \n",
       "</tr>\n",
       "<tr>\n",
       "  <th>Df Model:</th>              <td>     6</td>      <th>                     </th>     <td> </td>    \n",
       "</tr>\n",
       "<tr>\n",
       "  <th>Covariance Type:</th>      <td>nonrobust</td>    <th>                     </th>     <td> </td>    \n",
       "</tr>\n",
       "</table>\n",
       "<table class=\"simpletable\">\n",
       "<tr>\n",
       "         <td></td>           <th>coef</th>     <th>std err</th>      <th>t</th>      <th>P>|t|</th>  <th>[0.025</th>    <th>0.975]</th>  \n",
       "</tr>\n",
       "<tr>\n",
       "  <th>Intercept</th>      <td> -493.7342</td> <td>   24.825</td> <td>  -19.889</td> <td> 0.000</td> <td> -542.540</td> <td> -444.928</td>\n",
       "</tr>\n",
       "<tr>\n",
       "  <th>Student[T.Yes]</th> <td>  425.6099</td> <td>   16.510</td> <td>   25.780</td> <td> 0.000</td> <td>  393.152</td> <td>  458.068</td>\n",
       "</tr>\n",
       "<tr>\n",
       "  <th>Income</th>         <td>   -7.7951</td> <td>    0.233</td> <td>  -33.395</td> <td> 0.000</td> <td>   -8.254</td> <td>   -7.336</td>\n",
       "</tr>\n",
       "<tr>\n",
       "  <th>Limit</th>          <td>    0.1937</td> <td>    0.032</td> <td>    5.981</td> <td> 0.000</td> <td>    0.130</td> <td>    0.257</td>\n",
       "</tr>\n",
       "<tr>\n",
       "  <th>Rating</th>         <td>    1.0912</td> <td>    0.485</td> <td>    2.251</td> <td> 0.025</td> <td>    0.138</td> <td>    2.044</td>\n",
       "</tr>\n",
       "<tr>\n",
       "  <th>Cards</th>          <td>   18.2119</td> <td>    4.319</td> <td>    4.217</td> <td> 0.000</td> <td>    9.721</td> <td>   26.702</td>\n",
       "</tr>\n",
       "<tr>\n",
       "  <th>Age</th>            <td>   -0.6241</td> <td>    0.292</td> <td>   -2.139</td> <td> 0.033</td> <td>   -1.198</td> <td>   -0.050</td>\n",
       "</tr>\n",
       "</table>\n",
       "<table class=\"simpletable\">\n",
       "<tr>\n",
       "  <th>Omnibus:</th>       <td>34.091</td> <th>  Durbin-Watson:     </th> <td>   1.954</td>\n",
       "</tr>\n",
       "<tr>\n",
       "  <th>Prob(Omnibus):</th> <td> 0.000</td> <th>  Jarque-Bera (JB):  </th> <td>  40.623</td>\n",
       "</tr>\n",
       "<tr>\n",
       "  <th>Skew:</th>          <td> 0.772</td> <th>  Prob(JB):          </th> <td>1.51e-09</td>\n",
       "</tr>\n",
       "<tr>\n",
       "  <th>Kurtosis:</th>      <td> 3.225</td> <th>  Cond. No.          </th> <td>2.66e+04</td>\n",
       "</tr>\n",
       "</table><br/><br/>Warnings:<br/>[1] Standard Errors assume that the covariance matrix of the errors is correctly specified.<br/>[2] The condition number is large, 2.66e+04. This might indicate that there are<br/>strong multicollinearity or other numerical problems."
      ],
      "text/plain": [
       "<class 'statsmodels.iolib.summary.Summary'>\n",
       "\"\"\"\n",
       "                            OLS Regression Results                            \n",
       "==============================================================================\n",
       "Dep. Variable:                Balance   R-squared:                       0.955\n",
       "Model:                            OLS   Adj. R-squared:                  0.954\n",
       "Method:                 Least Squares   F-statistic:                     1380.\n",
       "Date:                Tue, 17 Jul 2018   Prob (F-statistic):          1.58e-260\n",
       "Time:                        21:15:44   Log-Likelihood:                -2400.5\n",
       "No. Observations:                 400   AIC:                             4815.\n",
       "Df Residuals:                     393   BIC:                             4843.\n",
       "Df Model:                           6                                         \n",
       "Covariance Type:            nonrobust                                         \n",
       "==================================================================================\n",
       "                     coef    std err          t      P>|t|      [0.025      0.975]\n",
       "----------------------------------------------------------------------------------\n",
       "Intercept       -493.7342     24.825    -19.889      0.000    -542.540    -444.928\n",
       "Student[T.Yes]   425.6099     16.510     25.780      0.000     393.152     458.068\n",
       "Income            -7.7951      0.233    -33.395      0.000      -8.254      -7.336\n",
       "Limit              0.1937      0.032      5.981      0.000       0.130       0.257\n",
       "Rating             1.0912      0.485      2.251      0.025       0.138       2.044\n",
       "Cards             18.2119      4.319      4.217      0.000       9.721      26.702\n",
       "Age               -0.6241      0.292     -2.139      0.033      -1.198      -0.050\n",
       "==============================================================================\n",
       "Omnibus:                       34.091   Durbin-Watson:                   1.954\n",
       "Prob(Omnibus):                  0.000   Jarque-Bera (JB):               40.623\n",
       "Skew:                           0.772   Prob(JB):                     1.51e-09\n",
       "Kurtosis:                       3.225   Cond. No.                     2.66e+04\n",
       "==============================================================================\n",
       "\n",
       "Warnings:\n",
       "[1] Standard Errors assume that the covariance matrix of the errors is correctly specified.\n",
       "[2] The condition number is large, 2.66e+04. This might indicate that there are\n",
       "strong multicollinearity or other numerical problems.\n",
       "\"\"\""
      ]
     },
     "execution_count": 82,
     "metadata": {},
     "output_type": "execute_result"
    }
   ],
   "source": [
    "model4 = smf.ols('Balance ~ Income + Limit + Rating + Cards + Age + Student', data=df)\n",
    "model4 = model4.fit()\n",
    "model4.summary()"
   ]
  },
  {
   "cell_type": "markdown",
   "metadata": {},
   "source": [
    "El modelo quedó igual al eliminar variables estadisticamentes no significativo"
   ]
  },
  {
   "cell_type": "markdown",
   "metadata": {},
   "source": [
    "### Ejercicio 6: \n",
    "\n",
    "* Utilizando `lmplot` de `seaborn`, inspeccione el comportamiento de los tres principales determinantes.\n",
    "- Las tres variables más determinantes son Student, Income, Cards"
   ]
  },
  {
   "cell_type": "code",
   "execution_count": 91,
   "metadata": {},
   "outputs": [
    {
     "data": {
      "image/png": "[encoded data removed]",
      "text/plain": [
       "<Figure size 360x360 with 1 Axes>"
      ]
     },
     "metadata": {},
     "output_type": "display_data"
    }
   ],
   "source": [
    "sns.lmplot(x=\"Income\", y=\"Balance\", data=df);"
   ]
  },
  {
   "cell_type": "code",
   "execution_count": 86,
   "metadata": {},
   "outputs": [
    {
     "data": {
      "image/png": "[encoded data removed]",
      "text/plain": [
       "<Figure size 360x360 with 1 Axes>"
      ]
     },
     "metadata": {},
     "output_type": "display_data"
    }
   ],
   "source": [
    "sns.lmplot(x=\"Cards\", y=\"Balance\", data=df);"
   ]
  },
  {
   "cell_type": "code",
   "execution_count": 85,
   "metadata": {},
   "outputs": [
    {
     "data": {
      "image/png": "[encoded data removed]",
      "text/plain": [
       "<Figure size 360x360 with 1 Axes>"
      ]
     },
     "metadata": {},
     "output_type": "display_data"
    }
   ],
   "source": [
    "df['Student_recode']=np.where(df['Student']=='Yes',1,0)\n",
    "sns.lmplot(x=\"Student_recode\", y=\"Balance\", data=df);"
   ]
  },
  {
   "cell_type": "markdown",
   "metadata": {},
   "source": [
    "Se muestran diferentes tipos de variables, una continua, una discreta y una binaria"
   ]
  },
  {
   "cell_type": "markdown",
   "metadata": {},
   "source": [
    "## Extra"
   ]
  },
  {
   "cell_type": "code",
   "execution_count": 96,
   "metadata": {},
   "outputs": [],
   "source": [
    "df['Income_sq'] = df['Income'] ** 2\n"
   ]
  },
  {
   "cell_type": "code",
   "execution_count": 95,
   "metadata": {},
   "outputs": [
    {
     "data": {
      "text/html": [
       "<table class=\"simpletable\">\n",
       "<caption>OLS Regression Results</caption>\n",
       "<tr>\n",
       "  <th>Dep. Variable:</th>         <td>Balance</td>     <th>  R-squared:         </th> <td>   0.206</td>\n",
       "</tr>\n",
       "<tr>\n",
       "  <th>Model:</th>                   <td>OLS</td>       <th>  Adj. R-squared:    </th> <td>   0.204</td>\n",
       "</tr>\n",
       "<tr>\n",
       "  <th>Method:</th>             <td>Least Squares</td>  <th>  F-statistic:       </th> <td>   103.3</td>\n",
       "</tr>\n",
       "<tr>\n",
       "  <th>Date:</th>             <td>Tue, 17 Jul 2018</td> <th>  Prob (F-statistic):</th> <td>9.81e-22</td>\n",
       "</tr>\n",
       "<tr>\n",
       "  <th>Time:</th>                 <td>21:27:01</td>     <th>  Log-Likelihood:    </th> <td> -2973.2</td>\n",
       "</tr>\n",
       "<tr>\n",
       "  <th>No. Observations:</th>      <td>   400</td>      <th>  AIC:               </th> <td>   5950.</td>\n",
       "</tr>\n",
       "<tr>\n",
       "  <th>Df Residuals:</th>          <td>   398</td>      <th>  BIC:               </th> <td>   5958.</td>\n",
       "</tr>\n",
       "<tr>\n",
       "  <th>Df Model:</th>              <td>     1</td>      <th>                     </th>     <td> </td>   \n",
       "</tr>\n",
       "<tr>\n",
       "  <th>Covariance Type:</th>      <td>nonrobust</td>    <th>                     </th>     <td> </td>   \n",
       "</tr>\n",
       "</table>\n",
       "<table class=\"simpletable\">\n",
       "<tr>\n",
       "      <td></td>         <th>coef</th>     <th>std err</th>      <th>t</th>      <th>P>|t|</th>  <th>[0.025</th>    <th>0.975]</th>  \n",
       "</tr>\n",
       "<tr>\n",
       "  <th>Intercept</th> <td>  397.7334</td> <td>   23.776</td> <td>   16.729</td> <td> 0.000</td> <td>  350.992</td> <td>  444.475</td>\n",
       "</tr>\n",
       "<tr>\n",
       "  <th>Income_sq</th> <td>    0.0372</td> <td>    0.004</td> <td>   10.165</td> <td> 0.000</td> <td>    0.030</td> <td>    0.044</td>\n",
       "</tr>\n",
       "</table>\n",
       "<table class=\"simpletable\">\n",
       "<tr>\n",
       "  <th>Omnibus:</th>       <td>48.635</td> <th>  Durbin-Watson:     </th> <td>   1.951</td>\n",
       "</tr>\n",
       "<tr>\n",
       "  <th>Prob(Omnibus):</th> <td> 0.000</td> <th>  Jarque-Bera (JB):  </th> <td>  23.783</td>\n",
       "</tr>\n",
       "<tr>\n",
       "  <th>Skew:</th>          <td> 0.423</td> <th>  Prob(JB):          </th> <td>6.85e-06</td>\n",
       "</tr>\n",
       "<tr>\n",
       "  <th>Kurtosis:</th>      <td> 2.156</td> <th>  Cond. No.          </th> <td>7.52e+03</td>\n",
       "</tr>\n",
       "</table><br/><br/>Warnings:<br/>[1] Standard Errors assume that the covariance matrix of the errors is correctly specified.<br/>[2] The condition number is large, 7.52e+03. This might indicate that there are<br/>strong multicollinearity or other numerical problems."
      ],
      "text/plain": [
       "<class 'statsmodels.iolib.summary.Summary'>\n",
       "\"\"\"\n",
       "                            OLS Regression Results                            \n",
       "==============================================================================\n",
       "Dep. Variable:                Balance   R-squared:                       0.206\n",
       "Model:                            OLS   Adj. R-squared:                  0.204\n",
       "Method:                 Least Squares   F-statistic:                     103.3\n",
       "Date:                Tue, 17 Jul 2018   Prob (F-statistic):           9.81e-22\n",
       "Time:                        21:27:01   Log-Likelihood:                -2973.2\n",
       "No. Observations:                 400   AIC:                             5950.\n",
       "Df Residuals:                     398   BIC:                             5958.\n",
       "Df Model:                           1                                         \n",
       "Covariance Type:            nonrobust                                         \n",
       "==============================================================================\n",
       "                 coef    std err          t      P>|t|      [0.025      0.975]\n",
       "------------------------------------------------------------------------------\n",
       "Intercept    397.7334     23.776     16.729      0.000     350.992     444.475\n",
       "Income_sq      0.0372      0.004     10.165      0.000       0.030       0.044\n",
       "==============================================================================\n",
       "Omnibus:                       48.635   Durbin-Watson:                   1.951\n",
       "Prob(Omnibus):                  0.000   Jarque-Bera (JB):               23.783\n",
       "Skew:                           0.423   Prob(JB):                     6.85e-06\n",
       "Kurtosis:                       2.156   Cond. No.                     7.52e+03\n",
       "==============================================================================\n",
       "\n",
       "Warnings:\n",
       "[1] Standard Errors assume that the covariance matrix of the errors is correctly specified.\n",
       "[2] The condition number is large, 7.52e+03. This might indicate that there are\n",
       "strong multicollinearity or other numerical problems.\n",
       "\"\"\""
      ]
     },
     "execution_count": 95,
     "metadata": {},
     "output_type": "execute_result"
    }
   ],
   "source": [
    "model4 = smf.ols('Balance ~ Income_sq', data=df)\n",
    "model4 = model4.fit()\n",
    "model4.summary()"
   ]
  },
  {
   "cell_type": "code",
   "execution_count": 98,
   "metadata": {},
   "outputs": [
    {
     "data": {
      "image/png": "[encoded data removed]",
      "text/plain": [
       "<Figure size 413.359x360 with 1 Axes>"
      ]
     },
     "metadata": {},
     "output_type": "display_data"
    }
   ],
   "source": [
    "sns.lmplot(x=\"Limit\", y=\"Balance\", data=df, hue=\"Student\");"
   ]
  },
  {
   "cell_type": "code",
   "execution_count": null,
   "metadata": {},
   "outputs": [],
   "source": []
  }
 ],
 "metadata": {
  "kernelspec": {
   "display_name": "Python 3",
   "language": "python",
   "name": "python3"
  },
  "language_info": {
   "codemirror_mode": {
    "name": "ipython",
    "version": 3
   },
   "file_extension": ".py",
   "mimetype": "text/x-python",
   "name": "python",
   "nbconvert_exporter": "python",
   "pygments_lexer": "ipython3",
   "version": "3.6.5"
  }
 },
 "nbformat": 4,
 "nbformat_minor": 2
}
