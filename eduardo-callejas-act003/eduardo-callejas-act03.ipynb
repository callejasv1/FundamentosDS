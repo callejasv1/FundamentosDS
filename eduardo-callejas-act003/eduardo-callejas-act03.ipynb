{
 "cells": [
  {
   "cell_type": "markdown",
   "metadata": {},
   "source": [
    "## Ejercicio 1: Lectura de archivos\n",
    "\n",
    "* Importe `pandas` y `numpy` siguiendo las convenciones.\n",
    "* Lea la base de datos `worldcup2014.csv` y asígnela a un objeto `df`.\n",
    "* Solicite las primeras 5 observaciones con `head`"
   ]
  },
  {
   "cell_type": "code",
   "execution_count": 1,
   "metadata": {},
   "outputs": [],
   "source": [
    "import pandas as pd\n",
    "import numpy as np"
   ]
  },
  {
   "cell_type": "code",
   "execution_count": 2,
   "metadata": {},
   "outputs": [],
   "source": [
    "df =pd.read_csv('worldcup2014.csv')"
   ]
  },
  {
   "cell_type": "code",
   "execution_count": 3,
   "metadata": {
    "scrolled": true
   },
   "outputs": [
    {
     "data": {
      "text/html": [
       "<div>\n",
       "<style scoped>\n",
       "    .dataframe tbody tr th:only-of-type {\n",
       "        vertical-align: middle;\n",
       "    }\n",
       "\n",
       "    .dataframe tbody tr th {\n",
       "        vertical-align: top;\n",
       "    }\n",
       "\n",
       "    .dataframe thead th {\n",
       "        text-align: right;\n",
       "    }\n",
       "</style>\n",
       "<table border=\"1\" class=\"dataframe\">\n",
       "  <thead>\n",
       "    <tr style=\"text-align: right;\">\n",
       "      <th></th>\n",
       "      <th>team</th>\n",
       "      <th>continent</th>\n",
       "      <th>group</th>\n",
       "      <th>group_pos</th>\n",
       "      <th>cantidad_juegos</th>\n",
       "      <th>juegos_ganados</th>\n",
       "      <th>juegos_empatados</th>\n",
       "      <th>juegos_perdidos</th>\n",
       "      <th>goles_favor</th>\n",
       "      <th>goles_contra</th>\n",
       "      <th>goles_diferencia</th>\n",
       "      <th>puntos</th>\n",
       "      <th>clasificado</th>\n",
       "    </tr>\n",
       "  </thead>\n",
       "  <tbody>\n",
       "    <tr>\n",
       "      <th>0</th>\n",
       "      <td>Brazil</td>\n",
       "      <td>southamerica</td>\n",
       "      <td>A</td>\n",
       "      <td>1</td>\n",
       "      <td>3</td>\n",
       "      <td>2</td>\n",
       "      <td>1</td>\n",
       "      <td>0</td>\n",
       "      <td>7</td>\n",
       "      <td>2</td>\n",
       "      <td>5</td>\n",
       "      <td>7</td>\n",
       "      <td>1</td>\n",
       "    </tr>\n",
       "    <tr>\n",
       "      <th>1</th>\n",
       "      <td>Mexico</td>\n",
       "      <td>northamerica</td>\n",
       "      <td>A</td>\n",
       "      <td>2</td>\n",
       "      <td>3</td>\n",
       "      <td>2</td>\n",
       "      <td>1</td>\n",
       "      <td>0</td>\n",
       "      <td>4</td>\n",
       "      <td>1</td>\n",
       "      <td>3</td>\n",
       "      <td>7</td>\n",
       "      <td>1</td>\n",
       "    </tr>\n",
       "    <tr>\n",
       "      <th>2</th>\n",
       "      <td>Croatia</td>\n",
       "      <td>europe</td>\n",
       "      <td>A</td>\n",
       "      <td>3</td>\n",
       "      <td>3</td>\n",
       "      <td>1</td>\n",
       "      <td>0</td>\n",
       "      <td>2</td>\n",
       "      <td>6</td>\n",
       "      <td>6</td>\n",
       "      <td>0</td>\n",
       "      <td>3</td>\n",
       "      <td>0</td>\n",
       "    </tr>\n",
       "    <tr>\n",
       "      <th>3</th>\n",
       "      <td>Cameroon</td>\n",
       "      <td>africa</td>\n",
       "      <td>A</td>\n",
       "      <td>4</td>\n",
       "      <td>3</td>\n",
       "      <td>0</td>\n",
       "      <td>0</td>\n",
       "      <td>3</td>\n",
       "      <td>1</td>\n",
       "      <td>9</td>\n",
       "      <td>−8</td>\n",
       "      <td>0</td>\n",
       "      <td>0</td>\n",
       "    </tr>\n",
       "    <tr>\n",
       "      <th>4</th>\n",
       "      <td>Netherlands</td>\n",
       "      <td>europe</td>\n",
       "      <td>B</td>\n",
       "      <td>1</td>\n",
       "      <td>3</td>\n",
       "      <td>3</td>\n",
       "      <td>0</td>\n",
       "      <td>0</td>\n",
       "      <td>10</td>\n",
       "      <td>3</td>\n",
       "      <td>7</td>\n",
       "      <td>9</td>\n",
       "      <td>1</td>\n",
       "    </tr>\n",
       "  </tbody>\n",
       "</table>\n",
       "</div>"
      ],
      "text/plain": [
       "          team     continent group  group_pos  cantidad_juegos  \\\n",
       "0       Brazil  southamerica     A          1                3   \n",
       "1       Mexico  northamerica     A          2                3   \n",
       "2      Croatia        europe     A          3                3   \n",
       "3     Cameroon        africa     A          4                3   \n",
       "4  Netherlands        europe     B          1                3   \n",
       "\n",
       "   juegos_ganados  juegos_empatados  juegos_perdidos  goles_favor  \\\n",
       "0               2                 1                0            7   \n",
       "1               2                 1                0            4   \n",
       "2               1                 0                2            6   \n",
       "3               0                 0                3            1   \n",
       "4               3                 0                0           10   \n",
       "\n",
       "   goles_contra goles_diferencia  puntos  clasificado  \n",
       "0             2                5       7            1  \n",
       "1             1                3       7            1  \n",
       "2             6                0       3            0  \n",
       "3             9               −8       0            0  \n",
       "4             3                7       9            1  "
      ]
     },
     "execution_count": 3,
     "metadata": {},
     "output_type": "execute_result"
    }
   ],
   "source": [
    "df.head()"
   ]
  },
  {
   "cell_type": "markdown",
   "metadata": {},
   "source": [
    "## Ejercicio 2: Estime las frecuencias de `continent`\n",
    "* Utilice `value_counts`. Responda lo siguiente:\n",
    "    - ¿Cuál es el continente con una mayor presencia en la muestra?\n",
    "    - ¿Cuál es la probabilidad de elegir un equipo asiático al azar?\n",
    "    - ¿Cuál es la probabilidad de elegir un equipo africano al azar?"
   ]
  },
  {
   "cell_type": "code",
   "execution_count": 4,
   "metadata": {},
   "outputs": [
    {
     "data": {
      "text/plain": [
       "europe          13\n",
       "southamerica     6\n",
       "africa           5\n",
       "northamerica     4\n",
       "asia             4\n",
       "Name: continent, dtype: int64"
      ]
     },
     "execution_count": 4,
     "metadata": {},
     "output_type": "execute_result"
    }
   ],
   "source": [
    "df['continent'].value_counts()"
   ]
  },
  {
   "cell_type": "markdown",
   "metadata": {},
   "source": [
    "El continente con mayor presencia es europa"
   ]
  },
  {
   "cell_type": "code",
   "execution_count": 5,
   "metadata": {},
   "outputs": [
    {
     "data": {
      "text/plain": [
       "europe          0.40625\n",
       "southamerica    0.18750\n",
       "africa          0.15625\n",
       "northamerica    0.12500\n",
       "asia            0.12500\n",
       "Name: continent, dtype: float64"
      ]
     },
     "execution_count": 5,
     "metadata": {},
     "output_type": "execute_result"
    }
   ],
   "source": [
    "df['continent'].value_counts()/len(df)"
   ]
  },
  {
   "cell_type": "markdown",
   "metadata": {},
   "source": [
    "La probabilidad de elegir un equipo asiático es de un 12,5%, y la de elegir un equipo africano, de un 15,625%"
   ]
  },
  {
   "cell_type": "markdown",
   "metadata": {},
   "source": [
    "\n",
    "## Ejercicio 3: Probabilidades por continente\n",
    "\n",
    "* Por cada continente, genere un nuevo objeto que almacene sólo las observaciones del continente.\n",
    "    - _tip_: Para ello puede utilizar la siguiente sintáxis: `df[df['variable'] == condicion]`."
   ]
  },
  {
   "cell_type": "code",
   "execution_count": 6,
   "metadata": {},
   "outputs": [],
   "source": [
    "df_europe = df[df['continent'] == 'europe']\n",
    "df_southamerica = df[df['continent'] == 'southamerica']\n",
    "df_africa = df[df['continent'] == 'africa']\n",
    "df_northamerica = df[df['continent'] == 'northamerica']\n",
    "df_asia = df[df['continent'] == 'asia']"
   ]
  },
  {
   "cell_type": "markdown",
   "metadata": {},
   "source": [
    "## Ejercicio 4: Calcule la probabilidad de clasificación a la siguiente ronda\n",
    "\n",
    "* Pase todos los objetos creados en un loop que imprima la probabilidad de pasar a la siguiente ronda por continente.\n",
    "    - _tip_: Genere un array que contenga los objetos a pasar en el loop.\n",
    "* ¿Cuál fue la probabilidad de que un país asiático pase a la siguiente ronda?\n",
    "* ¿Cuáles fueron los dos continentes que tuvieron la mayor probabilidad de clasificar?\n",
    "* ¿Cuál fue la probabilidad de no clasificar un país europeo?"
   ]
  },
  {
   "cell_type": "code",
   "execution_count": 7,
   "metadata": {},
   "outputs": [],
   "source": [
    "continentes = [df_europe, df_southamerica, df_africa, df_northamerica, df_asia]"
   ]
  },
  {
   "cell_type": "code",
   "execution_count": 8,
   "metadata": {},
   "outputs": [
    {
     "name": "stdout",
     "output_type": "stream",
     "text": [
      "europe\n",
      "0    0.538462\n",
      "1    0.461538\n",
      "Name: clasificado, dtype: float64\n",
      "southamerica\n",
      "1    0.833333\n",
      "0    0.166667\n",
      "Name: clasificado, dtype: float64\n",
      "africa\n",
      "0    0.6\n",
      "1    0.4\n",
      "Name: clasificado, dtype: float64\n",
      "northamerica\n",
      "1    0.75\n",
      "0    0.25\n",
      "Name: clasificado, dtype: float64\n",
      "asia\n",
      "0    1.0\n",
      "Name: clasificado, dtype: float64\n"
     ]
    }
   ],
   "source": [
    "for i in continentes:\n",
    "    print(i.iloc[0][1])\n",
    "    print(i['clasificado'].value_counts(True))"
   ]
  },
  {
   "cell_type": "markdown",
   "metadata": {},
   "source": [
    "La probabilidad de que un país asiático pase a segunda ronda es 0.  \n",
    "Los continentes con mayor probabilidad de clasificar: Sudamérica y África.   \n",
    "La probabilidad de no clasificar de un equipo europeo es de 46,15%"
   ]
  },
  {
   "cell_type": "markdown",
   "metadata": {},
   "source": [
    "## Ejercicio 5: Refactorización\n",
    "\n",
    "* A continuación se presenta un loop que cuenta las probabilidades de juegos ganados. Se pide que `value_counts` cuente los juegos no ganados y ganados, ignorando de la cantidad de juegos.\n",
    "\n",
    "* Para ello puede utilizar `np.where`, que devuelve un array con valores imputados cuando se satisface una condición. En este caso debemos clasificar como 0 cuando los juegos ganados sean igual a 0, y 1 cuando sean igual o mayor a 1.\n",
    "* Este array es difícil de trabajar, por lo que pueden transformarlo con `pd.Series` para utilizar `value_counts`.\n",
    "* En base a la refactorización del código, responda lo siguiente:\n",
    "    - ¿Qué continente tuvo una mayor probabilidad de ganar juegos?\n",
    "    - ¿Qué continente presentó un nivel similar entre juegos ganados y perdidos?\n",
    "* Utilize el código para el caso de juegos perdidos y analize el continente con una mayor probabilidad de perder."
   ]
  },
  {
   "cell_type": "code",
   "execution_count": null,
   "metadata": {},
   "outputs": [],
   "source": []
  },
  {
   "cell_type": "code",
   "execution_count": 50,
   "metadata": {},
   "outputs": [
    {
     "name": "stdout",
     "output_type": "stream",
     "text": [
      "europe:\n",
      "1    0.846154\n",
      "0    0.153846\n",
      "dtype: float64\n",
      "southamerica:\n",
      "1    1.0\n",
      "dtype: float64\n",
      "africa:\n",
      "1    0.6\n",
      "0    0.4\n",
      "dtype: float64\n",
      "northamerica:\n",
      "1    0.75\n",
      "0    0.25\n",
      "dtype: float64\n",
      "asia:\n",
      "0    1.0\n",
      "dtype: float64\n"
     ]
    }
   ],
   "source": [
    "for i in continentes:\n",
    "    print(i.iloc[0][1]+\":\")\n",
    "    print(pd.Series(np.where(i['juegos_ganados'] > 0, 1,0)).value_counts(True))"
   ]
  },
  {
   "cell_type": "markdown",
   "metadata": {},
   "source": [
    "Sudamerica tuvo una mayor probabilidad de ganar al menos un partido. Africa tuvo probabilidade similares de ganar al menos un partido o ganar ninguno (60-40%)."
   ]
  },
  {
   "cell_type": "code",
   "execution_count": 9,
   "metadata": {},
   "outputs": [
    {
     "name": "stdout",
     "output_type": "stream",
     "text": [
      "europe:\n",
      "1    0.692308\n",
      "0    0.307692\n",
      "dtype: float64\n",
      "southamerica:\n",
      "1    0.5\n",
      "0    0.5\n",
      "dtype: float64\n",
      "africa:\n",
      "1    1.0\n",
      "dtype: float64\n",
      "northamerica:\n",
      "1    0.5\n",
      "0    0.5\n",
      "dtype: float64\n",
      "asia:\n",
      "1    1.0\n",
      "dtype: float64\n"
     ]
    }
   ],
   "source": [
    "for i in continentes:\n",
    "    print(i.iloc[0][1]+\":\")\n",
    "    print(pd.Series(np.where(i['juegos_perdidos'] > 0, 1,0)).value_counts(True))"
   ]
  },
  {
   "cell_type": "markdown",
   "metadata": {},
   "source": [
    "Todos los paises africanos y asiáticos perdieron a lo menos un partido."
   ]
  },
  {
   "cell_type": "markdown",
   "metadata": {},
   "source": [
    "### En base a la información generada, responda lo siguiente\n",
    "1. ¿Qué continente tiene una mayor probabilidad de clasificar?\n",
    "2. ¿Qué continente tiene una menor probabilidad de clasificar?\n",
    "3. ¿Cuál es la probabilidad de no clasificar de un país africano?"
   ]
  },
  {
   "cell_type": "markdown",
   "metadata": {},
   "source": [
    "1. Sudamérica tiene mayor probabilidad de clasificar.  \n",
    "1. Asia la menor probabilidad de clasificar.  \n",
    "1. La probabilidad de no clasificar de Africa es de un 40%"
   ]
  },
  {
   "cell_type": "code",
   "execution_count": null,
   "metadata": {},
   "outputs": [],
   "source": []
  }
 ],
 "metadata": {
  "kernelspec": {
   "display_name": "Python 3",
   "language": "python",
   "name": "python3"
  },
  "language_info": {
   "codemirror_mode": {
    "name": "ipython",
    "version": 3
   },
   "file_extension": ".py",
   "mimetype": "text/x-python",
   "name": "python",
   "nbconvert_exporter": "python",
   "pygments_lexer": "ipython3",
   "version": "3.6.4"
  }
 },
 "nbformat": 4,
 "nbformat_minor": 2
}
