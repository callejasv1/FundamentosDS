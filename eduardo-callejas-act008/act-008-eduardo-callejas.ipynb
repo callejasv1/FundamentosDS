{
 "cells": [
  {
   "cell_type": "markdown",
   "metadata": {},
   "source": [
    "\n",
    "![alttext](logo.png)\n",
    "\n",
    "# Unidad 4: Hipótesis y Correlación - Sesión 2\n",
    "\n",
    "## Ejercicio 1: Evaluación de hipótesis\n",
    "\n",
    "A continuación se presenta una serie de enunciados de hipótesis. Usted debe discernir si es posible rechazar la hipótesis nula.\n",
    "\n",
    "1. 75 individuos elegidos al azar fueron alcanzados por activistas pro-LGTB que se identificaron como homosexuales, y 75 alcanzados por activistas pro-LGTB que se identificaron como heterosexuales. El objetivo era administrar una encuesta para medir actitudes frente a la adopción homoparental. La organización encargada de procesar los datos obtuvo los siguientes resultados:\n",
    "    - El 67% de los encuestados por heterosexuales se mostró a favor de la adopción homoparental, mientras que un 72% de los encuestados por activistas que se identifaron como homosexuales se mostraron a favor de la adopción homoparental.\n",
    "    - Asumiendo que la hipótesis nula es que ambos porcentajes no son estadísticamente diferentes, y la hipótesis alternativa es que existe una diferencia substancial entre ambos.\n",
    "    - Con un valor de prueba $z=11.83$ y un puntaje de corte de 2.58, ¿qué se debe concluir?\n"
   ]
  },
  {
   "cell_type": "markdown",
   "metadata": {},
   "source": [
    "### Respuesta\n",
    "Dado que el puntaje z es mayor que el puntaje de corte 2.58, por lo que rechazamos la hipótesis que ambos porcentajes no son substancialmente diferentes."
   ]
  },
  {
   "cell_type": "markdown",
   "metadata": {},
   "source": [
    "2. Un investigador de la Sociedad de Abstemios de Chile sugiere que los hombres tienen mayores niveles de consumo de alcohol que las mujeres, siendo esta diferencia estadísticamente significativa. Esto en base a su estudio realizado con 48 individuos, donde contrastó su puntaje de prueba a una distribución asintóticamente normal. ¿Qué se puede decir sobre su estudio?"
   ]
  },
  {
   "cell_type": "markdown",
   "metadata": {},
   "source": [
    "### Respuesta\n",
    "La muestra no es lo suficientemente grande para poder compararla con la distribución normal, por lo que sus resultados son cuestionables"
   ]
  },
  {
   "cell_type": "markdown",
   "metadata": {},
   "source": [
    "## Ejercicio 2: Importe la base de datos utilizada la sesión anterior. \n",
    "* Agrege una serie de variables binarias por cada continente de la variable `region`.\n",
    "    - _tip_: Utilice `np.where` para ello.\n",
    "\n",
    "* De manera similar a la sesión anterior, enfóquese en las siguientes variables:\n",
    "    * Apellidos desde la A hasta la N: Enfocarse en las variables `chldmort`, `adfert` y `life`.\n",
    "    * Apellidos desde la N hasta la Z: Enfocarse en las variables `femlab`, `literacy` y `school`."
   ]
  },
  {
   "cell_type": "code",
   "execution_count": 3,
   "metadata": {},
   "outputs": [],
   "source": [
    "%matplotlib inline\n",
    "# importamos la triada de Data Science\n",
    "import numpy as np\n",
    "import pandas as pd\n",
    "import matplotlib.pyplot as plt\n",
    "# importamos scipy.stats que ayudará a generar distribuciones\n",
    "import scipy.stats as stats\n",
    "# importamos seaborn, siguiendo la convención de renombrarlo como sns\n",
    "import seaborn as sns\n",
    "# archivo con funciones de visualización"
   ]
  },
  {
   "cell_type": "code",
   "execution_count": 4,
   "metadata": {},
   "outputs": [],
   "source": [
    "df =pd.read_csv('nations.csv', encoding='iso-8859-1')"
   ]
  },
  {
   "cell_type": "code",
   "execution_count": 6,
   "metadata": {},
   "outputs": [
    {
     "data": {
      "text/html": [
       "<div>\n",
       "<style scoped>\n",
       "    .dataframe tbody tr th:only-of-type {\n",
       "        vertical-align: middle;\n",
       "    }\n",
       "\n",
       "    .dataframe tbody tr th {\n",
       "        vertical-align: top;\n",
       "    }\n",
       "\n",
       "    .dataframe thead th {\n",
       "        text-align: right;\n",
       "    }\n",
       "</style>\n",
       "<table border=\"1\" class=\"dataframe\">\n",
       "  <thead>\n",
       "    <tr style=\"text-align: right;\">\n",
       "      <th></th>\n",
       "      <th>Unnamed: 0</th>\n",
       "      <th>country</th>\n",
       "      <th>region</th>\n",
       "      <th>gdp</th>\n",
       "      <th>school</th>\n",
       "      <th>adfert</th>\n",
       "      <th>chldmort</th>\n",
       "      <th>life</th>\n",
       "      <th>pop</th>\n",
       "      <th>urban</th>\n",
       "      <th>femlab</th>\n",
       "      <th>literacy</th>\n",
       "      <th>co2</th>\n",
       "      <th>gini</th>\n",
       "    </tr>\n",
       "  </thead>\n",
       "  <tbody>\n",
       "    <tr>\n",
       "      <th>0</th>\n",
       "      <td>1</td>\n",
       "      <td>Algeria</td>\n",
       "      <td>Africa</td>\n",
       "      <td>7300.399902</td>\n",
       "      <td>6.716667</td>\n",
       "      <td>7.300000</td>\n",
       "      <td>34.75</td>\n",
       "      <td>72.316666</td>\n",
       "      <td>34172236</td>\n",
       "      <td>64.933334</td>\n",
       "      <td>0.4522</td>\n",
       "      <td>72.599998</td>\n",
       "      <td>15.0</td>\n",
       "      <td>NaN</td>\n",
       "    </tr>\n",
       "    <tr>\n",
       "      <th>1</th>\n",
       "      <td>2</td>\n",
       "      <td>Benin</td>\n",
       "      <td>Africa</td>\n",
       "      <td>1338.800049</td>\n",
       "      <td>3.100000</td>\n",
       "      <td>111.699997</td>\n",
       "      <td>122.75</td>\n",
       "      <td>54.733334</td>\n",
       "      <td>8237634</td>\n",
       "      <td>41.000000</td>\n",
       "      <td>0.8482</td>\n",
       "      <td>41.700001</td>\n",
       "      <td>1.2</td>\n",
       "      <td>NaN</td>\n",
       "    </tr>\n",
       "    <tr>\n",
       "      <th>2</th>\n",
       "      <td>3</td>\n",
       "      <td>Botswana</td>\n",
       "      <td>Africa</td>\n",
       "      <td>12307.400391</td>\n",
       "      <td>8.600000</td>\n",
       "      <td>52.099998</td>\n",
       "      <td>60.25</td>\n",
       "      <td>52.250000</td>\n",
       "      <td>1941233</td>\n",
       "      <td>59.250000</td>\n",
       "      <td>0.8870</td>\n",
       "      <td>84.099998</td>\n",
       "      <td>9.2</td>\n",
       "      <td>NaN</td>\n",
       "    </tr>\n",
       "    <tr>\n",
       "      <th>3</th>\n",
       "      <td>4</td>\n",
       "      <td>Burkina Faso</td>\n",
       "      <td>Africa</td>\n",
       "      <td>1063.400024</td>\n",
       "      <td>1.300000</td>\n",
       "      <td>124.800003</td>\n",
       "      <td>170.50</td>\n",
       "      <td>53.783333</td>\n",
       "      <td>15308383</td>\n",
       "      <td>23.583334</td>\n",
       "      <td>0.8584</td>\n",
       "      <td>23.600000</td>\n",
       "      <td>0.2</td>\n",
       "      <td>NaN</td>\n",
       "    </tr>\n",
       "    <tr>\n",
       "      <th>4</th>\n",
       "      <td>5</td>\n",
       "      <td>Burundi</td>\n",
       "      <td>Africa</td>\n",
       "      <td>349.200012</td>\n",
       "      <td>2.483333</td>\n",
       "      <td>18.600000</td>\n",
       "      <td>168.50</td>\n",
       "      <td>48.866665</td>\n",
       "      <td>7821783</td>\n",
       "      <td>10.250000</td>\n",
       "      <td>1.0344</td>\n",
       "      <td>66.599998</td>\n",
       "      <td>0.1</td>\n",
       "      <td>33.299999</td>\n",
       "    </tr>\n",
       "  </tbody>\n",
       "</table>\n",
       "</div>"
      ],
      "text/plain": [
       "   Unnamed: 0       country  region           gdp    school      adfert  \\\n",
       "0           1       Algeria  Africa   7300.399902  6.716667    7.300000   \n",
       "1           2         Benin  Africa   1338.800049  3.100000  111.699997   \n",
       "2           3      Botswana  Africa  12307.400391  8.600000   52.099998   \n",
       "3           4  Burkina Faso  Africa   1063.400024  1.300000  124.800003   \n",
       "4           5       Burundi  Africa    349.200012  2.483333   18.600000   \n",
       "\n",
       "   chldmort       life       pop      urban  femlab   literacy   co2  \\\n",
       "0     34.75  72.316666  34172236  64.933334  0.4522  72.599998  15.0   \n",
       "1    122.75  54.733334   8237634  41.000000  0.8482  41.700001   1.2   \n",
       "2     60.25  52.250000   1941233  59.250000  0.8870  84.099998   9.2   \n",
       "3    170.50  53.783333  15308383  23.583334  0.8584  23.600000   0.2   \n",
       "4    168.50  48.866665   7821783  10.250000  1.0344  66.599998   0.1   \n",
       "\n",
       "        gini  \n",
       "0        NaN  \n",
       "1        NaN  \n",
       "2        NaN  \n",
       "3        NaN  \n",
       "4  33.299999  "
      ]
     },
     "execution_count": 6,
     "metadata": {},
     "output_type": "execute_result"
    }
   ],
   "source": [
    "df.head()"
   ]
  },
  {
   "cell_type": "code",
   "execution_count": 7,
   "metadata": {},
   "outputs": [
    {
     "data": {
      "text/plain": [
       "array(['Africa', 'Americas', 'Asia', 'Europe', 'Oceania'], dtype=object)"
      ]
     },
     "execution_count": 7,
     "metadata": {},
     "output_type": "execute_result"
    }
   ],
   "source": [
    "df['region'].unique()"
   ]
  },
  {
   "cell_type": "code",
   "execution_count": 51,
   "metadata": {},
   "outputs": [],
   "source": [
    "regiones = df['region'].unique()\n",
    "#df['Africa']=np.where(df['region']=='Africa',1,0)"
   ]
  },
  {
   "cell_type": "code",
   "execution_count": 12,
   "metadata": {},
   "outputs": [],
   "source": [
    "for i in regiones:\n",
    "    df[i]=np.where(df['region']==i,1,0)"
   ]
  },
  {
   "cell_type": "code",
   "execution_count": 20,
   "metadata": {},
   "outputs": [],
   "source": [
    "df_subset_region = df.loc[: , ['region','chldmort','adfert','life','Africa', 'Americas', 'Asia', 'Europe', 'Oceania']]"
   ]
  },
  {
   "cell_type": "markdown",
   "metadata": {},
   "source": [
    "## Ejercicio 3: Implemente una función de prueba de hipótesis a mano\n",
    "\n",
    "* La función debe ingresar los siguientes argumentos:\n",
    "    - `df`: La tabla de datos.\n",
    "    - `variable`: La variable a analizar.\n",
    "    - `binarize`: El indicador binario a utilizar.\n",
    "* _tips:_ \n",
    "    - Separe la variable en dos, utilizando el indicador binario. Recuerde eliminar los perdidos con `dropna()`.\n",
    "    - Implemente `ttest_ind` de `scipy.stats` y guarde el valor `t` y `pval`.\n",
    "    - Reporte las medias para cada grupo (0 y 1).\n",
    "    - Reporte la diferencia de entre las medias.\n",
    "    - Reporte los valores t y p\n"
   ]
  },
  {
   "cell_type": "code",
   "execution_count": 166,
   "metadata": {},
   "outputs": [],
   "source": [
    "def prueba_hipotesis(df, variable, binarize):\n",
    "    df1 = df[variable][df[binarize]==1].dropna()\n",
    "    df2 = df[variable][df[binarize]==0].dropna()\n",
    "    print(variable, binarize)\n",
    "    print('La media de',binarize,'es',df1.mean())\n",
    "    print('La media del resto del mundo es',df2.mean())\n",
    "    print('La diferencia de las medias es',(df1.mean() - df2.mean()))\n",
    "    valorz, valorp = stats.ttest_ind(df1,df2)\n",
    "    print('El valor z es', valorz)\n",
    "    print('El valor p es', valorp)\n",
    "    print('\\n')"
   ]
  },
  {
   "cell_type": "code",
   "execution_count": 156,
   "metadata": {},
   "outputs": [
    {
     "name": "stdout",
     "output_type": "stream",
     "text": [
      "adfert Oceania\n",
      "La media del primer grupo es 44.99333400726322\n",
      "La media del segundo grupo es 52.38603339847906\n",
      "La diferencia de las medias es -7.392699391215835\n",
      "El valor z es -0.6231321887004015\n",
      "El valor p es 0.5339371393742243\n",
      "\n",
      "\n"
     ]
    }
   ],
   "source": [
    "prueba_hipotesis(df_subset_region, 'adfert', 'Oceania')"
   ]
  },
  {
   "cell_type": "markdown",
   "metadata": {},
   "source": [
    "## Ejercicio 4: Implemente una función que grafique los histogramas para ambas muestras.\n",
    "\n",
    "* Genere una función que devuelva un gráfico donde visualice los dos histogramas de la variable acorde a cada subgrupo, respectivamente.\n",
    "* _tips_: Refactorize la función incluyendo el método `hist` de `matplotlib.pyplot`. Incluya los argumentos `alpha` y `label`."
   ]
  },
  {
   "cell_type": "code",
   "execution_count": 161,
   "metadata": {},
   "outputs": [],
   "source": [
    "def funcion_hist(df, variable, binarize, alpha, label):\n",
    "    df1 = df[variable][df[binarize]==1].dropna()\n",
    "    df2 = df[variable][df[binarize]==0].dropna()\n",
    "    #plt.figure()\n",
    "    plt.subplot(1, 2, 1)\n",
    "    plt.hist(df1, alpha = alpha, label=label)\n",
    "    plt.legend()\n",
    "    plt.title(binarize+' =1, '+variable)\n",
    "    plt.subplot(1, 2, 2)\n",
    "    #plt.figure()\n",
    "    plt.hist(df2, alpha= alpha, label=label, color='red')\n",
    "    plt.title(binarize+' =0 '+variable)\n",
    "    plt.legend()\n",
    "    #prueba_hipotesis(df_subset_region, variable, i)"
   ]
  },
  {
   "cell_type": "code",
   "execution_count": 136,
   "metadata": {},
   "outputs": [
    {
     "data": {
      "image/png": "[encoded data removed]",
      "text/plain": [
       "<Figure size 432x288 with 2 Axes>"
      ]
     },
     "metadata": {},
     "output_type": "display_data"
    }
   ],
   "source": [
    "funcion_hist(df_subset_region,'adfert','Oceania',.5,'label')"
   ]
  },
  {
   "cell_type": "markdown",
   "metadata": {},
   "source": [
    "## Ejercicio 5: Para las tres variables de interés acorde a su grupo, analice las diferencias de medias por cada continente, y posteriormente grafique. Concluya con los principales resultados al respecto."
   ]
  },
  {
   "cell_type": "markdown",
   "metadata": {},
   "source": [
    "# Fertilidad adolescente"
   ]
  },
  {
   "cell_type": "code",
   "execution_count": 167,
   "metadata": {},
   "outputs": [
    {
     "name": "stdout",
     "output_type": "stream",
     "text": [
      "adfert Africa\n",
      "La media de Africa es 92.72115342892133\n",
      "La media del resto del mundo es 36.83450711361119\n",
      "La diferencia de las medias es 55.88664631531014\n",
      "El valor z es 9.444409431356496\n",
      "El valor p es 1.2481674170069097e-17\n",
      "\n",
      "\n",
      "adfert Americas\n",
      "La media de Americas es 63.659999847412095\n",
      "La media del resto del mundo es 49.20691819985708\n",
      "La diferencia de las medias es 14.453081647555017\n",
      "El valor z es 1.7662790555775358\n",
      "El valor p es 0.07893816171889229\n",
      "\n",
      "\n",
      "adfert Asia\n",
      "La media de Asia es 33.86530622170896\n",
      "La media del resto del mundo es 57.87999988671007\n",
      "La diferencia de las medias es -24.014693665001104\n",
      "El valor z es -3.386269877966909\n",
      "El valor p es 0.0008592686089688165\n",
      "\n",
      "\n",
      "adfert Europe\n",
      "La media de Europe es 15.53720931396928\n",
      "La media del resto del mundo es 62.14503303268887\n",
      "La diferencia de las medias es -46.607823718719594\n",
      "El valor z es -6.797972597840039\n",
      "El valor p es 1.3040875269879142e-10\n",
      "\n",
      "\n",
      "adfert Oceania\n",
      "La media de Oceania es 44.99333400726322\n",
      "La media del resto del mundo es 52.38603339847906\n",
      "La diferencia de las medias es -7.392699391215835\n",
      "El valor z es -0.6231321887004015\n",
      "El valor p es 0.5339371393742243\n",
      "\n",
      "\n"
     ]
    },
    {
     "data": {
      "image/png": "[encoded data removed]",
      "text/plain": [
       "<Figure size 432x288 with 2 Axes>"
      ]
     },
     "metadata": {},
     "output_type": "display_data"
    },
    {
     "data": {
      "image/png": "[encoded data removed]",
      "text/plain": [
       "<Figure size 432x288 with 2 Axes>"
      ]
     },
     "metadata": {},
     "output_type": "display_data"
    },
    {
     "data": {
      "image/png": "[encoded data removed]",
      "text/plain": [
       "<Figure size 432x288 with 2 Axes>"
      ]
     },
     "metadata": {},
     "output_type": "display_data"
    },
    {
     "data": {
      "image/png": "[encoded data removed]",
      "text/plain": [
       "<Figure size 432x288 with 2 Axes>"
      ]
     },
     "metadata": {},
     "output_type": "display_data"
    },
    {
     "data": {
      "image/png": "[encoded data removed]",
      "text/plain": [
       "<Figure size 432x288 with 2 Axes>"
      ]
     },
     "metadata": {},
     "output_type": "display_data"
    },
    {
     "data": {
      "text/plain": [
       "<Figure size 432x288 with 0 Axes>"
      ]
     },
     "metadata": {},
     "output_type": "display_data"
    }
   ],
   "source": [
    "for i in regiones:\n",
    "    \n",
    "    prueba_hipotesis(df_subset_region, 'adfert', i)\n",
    "    funcion_hist(df_subset_region,'adfert',i,.5,'label')\n",
    "    plt.figure()"
   ]
  },
  {
   "cell_type": "markdown",
   "metadata": {},
   "source": [
    "Excepto por America, en todos los continentes rechazamos que el promedio de fertilidad adolescente sea similar a la del resto del mundo."
   ]
  },
  {
   "cell_type": "markdown",
   "metadata": {},
   "source": [
    "# Mortandad infantil"
   ]
  },
  {
   "cell_type": "code",
   "execution_count": 163,
   "metadata": {},
   "outputs": [
    {
     "name": "stdout",
     "output_type": "stream",
     "text": [
      "chldmort Africa\n",
      "La media del primer grupo es 109.75\n",
      "La media del segundo grupo es 24.74822695035461\n",
      "La diferencia de las medias es 85.0017730496454\n",
      "El valor z es 14.17367667788517\n",
      "El valor p es 1.244572684496239e-31\n",
      "\n",
      "\n",
      "chldmort Americas\n",
      "La media del primer grupo es 23.264285714285716\n",
      "La media del segundo grupo es 53.052215189873415\n",
      "La diferencia de las medias es -29.7879294755877\n",
      "El valor z es -3.08561941878294\n",
      "El valor p es 0.00233300081092071\n",
      "\n",
      "\n",
      "chldmort Asia\n",
      "La media del primer grupo es 37.104166666666664\n",
      "La media del segundo grupo es 51.141379310344824\n",
      "La diferencia de las medias es -14.03721264367816\n",
      "El valor z es -1.602738386676471\n",
      "El valor p es 0.1106448646711535\n",
      "\n",
      "\n",
      "chldmort Europe\n",
      "La media del primer grupo es 7.046511627906977\n",
      "La media del segundo grupo es 59.29\n",
      "La diferencia de las medias es -52.243488372093026\n",
      "El valor z es -6.262400472976766\n",
      "El valor p es 2.4506589890929246e-09\n",
      "\n",
      "\n",
      "chldmort Oceania\n",
      "La media del primer grupo es 39.416666666666664\n",
      "La media del segundo grupo es 48.34410112359551\n",
      "La diferencia de las medias es -8.927434456928843\n",
      "El valor z es -0.6277779742677246\n",
      "El valor p es 0.5308992371716935\n",
      "\n",
      "\n"
     ]
    },
    {
     "data": {
      "image/png": "[encoded data removed]",
      "text/plain": [
       "<Figure size 432x288 with 2 Axes>"
      ]
     },
     "metadata": {},
     "output_type": "display_data"
    },
    {
     "data": {
      "image/png": "[encoded data removed]",
      "text/plain": [
       "<Figure size 432x288 with 2 Axes>"
      ]
     },
     "metadata": {},
     "output_type": "display_data"
    },
    {
     "data": {
      "image/png": "[encoded data removed]",
      "text/plain": [
       "<Figure size 432x288 with 2 Axes>"
      ]
     },
     "metadata": {},
     "output_type": "display_data"
    },
    {
     "data": {
      "image/png": "[encoded data removed]",
      "text/plain": [
       "<Figure size 432x288 with 2 Axes>"
      ]
     },
     "metadata": {},
     "output_type": "display_data"
    },
    {
     "data": {
      "image/png": "[encoded data removed]",
      "text/plain": [
       "<Figure size 432x288 with 2 Axes>"
      ]
     },
     "metadata": {},
     "output_type": "display_data"
    },
    {
     "data": {
      "text/plain": [
       "<Figure size 432x288 with 0 Axes>"
      ]
     },
     "metadata": {},
     "output_type": "display_data"
    }
   ],
   "source": [
    "for i in regiones:\n",
    "    \n",
    "    prueba_hipotesis(df_subset_region, 'chldmort', i)\n",
    "    funcion_hist(df_subset_region,'chldmort',i,.5,'label')\n",
    "    plt.figure()"
   ]
  },
  {
   "cell_type": "markdown",
   "metadata": {},
   "source": [
    "Solo en  Asia y Oceania no podemos rechazar la hipótesis que tengan medias similares, en el resto rechazamos la hipótesis de que las medias sean similares."
   ]
  },
  {
   "cell_type": "markdown",
   "metadata": {},
   "source": [
    "# Expectativa de vida"
   ]
  },
  {
   "cell_type": "code",
   "execution_count": 168,
   "metadata": {},
   "outputs": [
    {
     "name": "stdout",
     "output_type": "stream",
     "text": [
      "life Africa\n",
      "La media de Africa es 56.49038454202504\n",
      "La media del resto del mundo es 73.21114999475614\n",
      "La diferencia de las medias es -16.7207654527311\n",
      "El valor z es -15.174602759471485\n",
      "El valor p es 1.0713988391633837e-34\n",
      "\n",
      "\n",
      "life Americas\n",
      "La media de Americas es 73.45142800467355\n",
      "La media del resto del mundo es 67.68983217155409\n",
      "La diferencia de las medias es 5.761595833119458\n",
      "El valor z es 3.138414667252044\n",
      "El valor p es 0.0019666060685098454\n",
      "\n",
      "\n",
      "life Asia\n",
      "La media de Asia es 70.87244882388991\n",
      "La media del resto del mundo es 68.0050572625522\n",
      "La diferencia de las medias es 2.867391561337712\n",
      "El valor z es 1.7346722179790488\n",
      "El valor p es 0.08440370105334277\n",
      "\n",
      "\n",
      "life Europe\n",
      "La media de Europe es 76.94573619753815\n",
      "La media del resto del mundo es 66.38951416520882\n",
      "La diferencia de las medias es 10.55622203232933\n",
      "El valor z es 6.735355531733241\n",
      "El valor p es 1.8491610377704372e-10\n",
      "\n",
      "\n",
      "life Oceania\n",
      "La media de Oceania es 69.58444468180339\n",
      "La media del resto del mundo es 68.65763477772973\n",
      "La diferencia de las medias es 0.9268099040736644\n",
      "El valor z es 0.342110739720379\n",
      "El valor p es 0.7326417413000359\n",
      "\n",
      "\n"
     ]
    },
    {
     "data": {
      "image/png": "[encoded data removed]",
      "text/plain": [
       "<Figure size 432x288 with 2 Axes>"
      ]
     },
     "metadata": {},
     "output_type": "display_data"
    },
    {
     "data": {
      "image/png": "[encoded data removed]",
      "text/plain": [
       "<Figure size 432x288 with 2 Axes>"
      ]
     },
     "metadata": {},
     "output_type": "display_data"
    },
    {
     "data": {
      "image/png": "[encoded data removed]",
      "text/plain": [
       "<Figure size 432x288 with 2 Axes>"
      ]
     },
     "metadata": {},
     "output_type": "display_data"
    },
    {
     "data": {
      "image/png": "[encoded data removed]",
      "text/plain": [
       "<Figure size 432x288 with 2 Axes>"
      ]
     },
     "metadata": {},
     "output_type": "display_data"
    },
    {
     "data": {
      "image/png": "[encoded data removed]",
      "text/plain": [
       "<Figure size 432x288 with 2 Axes>"
      ]
     },
     "metadata": {},
     "output_type": "display_data"
    },
    {
     "data": {
      "text/plain": [
       "<Figure size 432x288 with 0 Axes>"
      ]
     },
     "metadata": {},
     "output_type": "display_data"
    }
   ],
   "source": [
    "for i in regiones:\n",
    "    \n",
    "    prueba_hipotesis(df_subset_region, 'life', i)\n",
    "    funcion_hist(df_subset_region,'life',i,.5,'label')\n",
    "    plt.figure()"
   ]
  },
  {
   "cell_type": "markdown",
   "metadata": {},
   "source": [
    "No hay evidencia para rechazar la hipótesis que Oceanía y Asía tengan medias similares al resto del mundo. Rechazamos esa hipótesis en los demás continentes"
   ]
  },
  {
   "cell_type": "code",
   "execution_count": null,
   "metadata": {},
   "outputs": [],
   "source": []
  }
 ],
 "metadata": {
  "kernelspec": {
   "display_name": "Python 3",
   "language": "python",
   "name": "python3"
  },
  "language_info": {
   "codemirror_mode": {
    "name": "ipython",
    "version": 3
   },
   "file_extension": ".py",
   "mimetype": "text/x-python",
   "name": "python",
   "nbconvert_exporter": "python",
   "pygments_lexer": "ipython3",
   "version": "3.6.5"
  }
 },
 "nbformat": 4,
 "nbformat_minor": 2
}
