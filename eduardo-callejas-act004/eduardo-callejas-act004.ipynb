{
 "cells": [
  {
   "cell_type": "markdown",
   "metadata": {},
   "source": [
    "![](logo.png)\n",
    "\n",
    "# Actividad 04 - Funciones y probabilidad básica\n",
    "\n",
    "* Para poder realizar esta actividad debes haber revisado la lectura correspondiente a la semana.\n",
    "* Crea una carpeta de trabajo y guarda todos los archivos correspondientes (notebook y csv).\n",
    "* Una vez terminada la actividad, comprime la carpeta y sube el `.zip` a la sección correspondiente.\n",
    "\n",
    "## Ejercicio 1: Generación de funciones\n",
    "\n",
    "* Genere funciones para calcular la media y varianza de un vector. Debe cumplir con los siguientes requistos:\n",
    "    - Ambas funciones deben ingresar el vector a analizar como un argumento `x`.\n",
    "    - Las funciones deben contener `docstrings` con la documentación asociada a la variable.\n",
    "    - Deben __retornar__ el resultado (_tip_: utilice `return`).\n",
    "    - La función de la varianza debe llamar a la función de la media.\n",
    "* Utilice las funciones para reportar la información sobre `goles_favor`, `goles_contra`, `puntos` en la base de datos."
   ]
  },
  {
   "cell_type": "code",
   "execution_count": 45,
   "metadata": {},
   "outputs": [
    {
     "data": {
      "text/html": [
       "<div>\n",
       "<style>\n",
       "    .dataframe thead tr:only-child th {\n",
       "        text-align: right;\n",
       "    }\n",
       "\n",
       "    .dataframe thead th {\n",
       "        text-align: left;\n",
       "    }\n",
       "\n",
       "    .dataframe tbody tr th {\n",
       "        vertical-align: top;\n",
       "    }\n",
       "</style>\n",
       "<table border=\"1\" class=\"dataframe\">\n",
       "  <thead>\n",
       "    <tr style=\"text-align: right;\">\n",
       "      <th></th>\n",
       "      <th>team</th>\n",
       "      <th>continent</th>\n",
       "      <th>group</th>\n",
       "      <th>group_pos</th>\n",
       "      <th>cantidad_juegos</th>\n",
       "      <th>juegos_ganados</th>\n",
       "      <th>juegos_empatados</th>\n",
       "      <th>juegos_perdidos</th>\n",
       "      <th>goles_favor</th>\n",
       "      <th>goles_contra</th>\n",
       "      <th>goles_diferencia</th>\n",
       "      <th>puntos</th>\n",
       "      <th>clasificado</th>\n",
       "    </tr>\n",
       "  </thead>\n",
       "  <tbody>\n",
       "    <tr>\n",
       "      <th>0</th>\n",
       "      <td>Brazil</td>\n",
       "      <td>southamerica</td>\n",
       "      <td>A</td>\n",
       "      <td>1</td>\n",
       "      <td>3</td>\n",
       "      <td>2</td>\n",
       "      <td>1</td>\n",
       "      <td>0</td>\n",
       "      <td>7</td>\n",
       "      <td>2</td>\n",
       "      <td>5</td>\n",
       "      <td>7</td>\n",
       "      <td>1</td>\n",
       "    </tr>\n",
       "    <tr>\n",
       "      <th>1</th>\n",
       "      <td>Mexico</td>\n",
       "      <td>northamerica</td>\n",
       "      <td>A</td>\n",
       "      <td>2</td>\n",
       "      <td>3</td>\n",
       "      <td>2</td>\n",
       "      <td>1</td>\n",
       "      <td>0</td>\n",
       "      <td>4</td>\n",
       "      <td>1</td>\n",
       "      <td>3</td>\n",
       "      <td>7</td>\n",
       "      <td>1</td>\n",
       "    </tr>\n",
       "    <tr>\n",
       "      <th>2</th>\n",
       "      <td>Croatia</td>\n",
       "      <td>europe</td>\n",
       "      <td>A</td>\n",
       "      <td>3</td>\n",
       "      <td>3</td>\n",
       "      <td>1</td>\n",
       "      <td>0</td>\n",
       "      <td>2</td>\n",
       "      <td>6</td>\n",
       "      <td>6</td>\n",
       "      <td>0</td>\n",
       "      <td>3</td>\n",
       "      <td>0</td>\n",
       "    </tr>\n",
       "    <tr>\n",
       "      <th>3</th>\n",
       "      <td>Cameroon</td>\n",
       "      <td>africa</td>\n",
       "      <td>A</td>\n",
       "      <td>4</td>\n",
       "      <td>3</td>\n",
       "      <td>0</td>\n",
       "      <td>0</td>\n",
       "      <td>3</td>\n",
       "      <td>1</td>\n",
       "      <td>9</td>\n",
       "      <td>−8</td>\n",
       "      <td>0</td>\n",
       "      <td>0</td>\n",
       "    </tr>\n",
       "    <tr>\n",
       "      <th>4</th>\n",
       "      <td>Netherlands</td>\n",
       "      <td>europe</td>\n",
       "      <td>B</td>\n",
       "      <td>1</td>\n",
       "      <td>3</td>\n",
       "      <td>3</td>\n",
       "      <td>0</td>\n",
       "      <td>0</td>\n",
       "      <td>10</td>\n",
       "      <td>3</td>\n",
       "      <td>7</td>\n",
       "      <td>9</td>\n",
       "      <td>1</td>\n",
       "    </tr>\n",
       "  </tbody>\n",
       "</table>\n",
       "</div>"
      ],
      "text/plain": [
       "          team     continent group  group_pos  cantidad_juegos  \\\n",
       "0       Brazil  southamerica     A          1                3   \n",
       "1       Mexico  northamerica     A          2                3   \n",
       "2      Croatia        europe     A          3                3   \n",
       "3     Cameroon        africa     A          4                3   \n",
       "4  Netherlands        europe     B          1                3   \n",
       "\n",
       "   juegos_ganados  juegos_empatados  juegos_perdidos  goles_favor  \\\n",
       "0               2                 1                0            7   \n",
       "1               2                 1                0            4   \n",
       "2               1                 0                2            6   \n",
       "3               0                 0                3            1   \n",
       "4               3                 0                0           10   \n",
       "\n",
       "   goles_contra goles_diferencia  puntos  clasificado  \n",
       "0             2                5       7            1  \n",
       "1             1                3       7            1  \n",
       "2             6                0       3            0  \n",
       "3             9               −8       0            0  \n",
       "4             3                7       9            1  "
      ]
     },
     "execution_count": 45,
     "metadata": {},
     "output_type": "execute_result"
    }
   ],
   "source": [
    "import pandas as pd\n",
    "import numpy as np\n",
    "df = pd.read_csv(\"worldcup2014.csv\")\n",
    "df.head()"
   ]
  },
  {
   "cell_type": "code",
   "execution_count": 1,
   "metadata": {
    "collapsed": true
   },
   "outputs": [],
   "source": [
    "ejemplo = [1,2,3,4,5]"
   ]
  },
  {
   "cell_type": "code",
   "execution_count": 9,
   "metadata": {},
   "outputs": [],
   "source": [
    "def media(array):\n",
    "    \"\"\"\n",
    "    La función calcula el promedio de un vector\n",
    "    El argumento array debe ser una serie de datos numéricos.\n",
    "    \"\"\"\n",
    "    mean = sum(array)/len(array)\n",
    "    return (mean)"
   ]
  },
  {
   "cell_type": "code",
   "execution_count": 40,
   "metadata": {},
   "outputs": [],
   "source": [
    "def varianza(array):\n",
    "    \"\"\"\n",
    "   La funcion calcula la varianza del vector array-\n",
    "   Requiere la funcion 'media' que está definida anteriormente\n",
    "   \n",
    "    \"\"\"\n",
    "    contador=0\n",
    "    for i in array:\n",
    "        contador = contador + (i-media(array))**2\n",
    "    varianza = contador/(len(array))\n",
    "    return(varianza)\n",
    "        "
   ]
  },
  {
   "cell_type": "code",
   "execution_count": 34,
   "metadata": {},
   "outputs": [
    {
     "data": {
      "text/plain": [
       "2.0"
      ]
     },
     "execution_count": 34,
     "metadata": {},
     "output_type": "execute_result"
    }
   ],
   "source": [
    "np.var(ejemplo)"
   ]
  },
  {
   "cell_type": "code",
   "execution_count": 41,
   "metadata": {},
   "outputs": [
    {
     "name": "stdout",
     "output_type": "stream",
     "text": [
      "La media de los goles a favor 4.25 y su varianza es 5.1875\n",
      "La media de los goles en contra es 4.25 y su varianza es 4.8125\n",
      "La media de los puntos 4.21875 y su varianza es 8.0458984375\n"
     ]
    }
   ],
   "source": [
    "print('La media de los goles a favor', media(df['goles_favor']),'y su varianza es',varianza(df['goles_favor']))\n",
    "print('La media de los goles en contra es', media(df['goles_contra']),'y su varianza es',varianza(df['goles_contra']))\n",
    "print('La media de los puntos', media(df['puntos']),'y su varianza es',varianza(df['puntos']))"
   ]
  },
  {
   "cell_type": "markdown",
   "metadata": {},
   "source": [
    "\n",
    "## Ejercicio 2: A continuación se presenta el siguiente código para obtener la media y varianza de una variable para distintos continentes\n",
    "\n",
    "\n",
    "```python\n",
    "continent = []\n",
    "store_mean = []\n",
    "store_std = []\n",
    "\n",
    "for d in [africa_df, europe_df, asia_df, northamerica_df, southamerica_df]:\n",
    "    continent.append(d.iloc[0,1])\n",
    "    store_mean.append(media(d['goles_favor']))\n",
    "    store_std.append(varianza(d['goles_favor']))\n",
    "    \n",
    "tmp = pd.DataFrame({'continente': continent,\n",
    "                   'media_goles': store_mean,\n",
    "                   'std_goles': store_std})\n",
    "\n",
    "tmp\n",
    "\n",
    "```\n",
    "\n",
    "* En base a la información disponible, genere una función con los argumentos `dataframe`, `group_by` y `var` para ingresar una base de datos, una variable para segmentar y una variable a analizar, respectivamente.\n",
    "* Se debe ingresar la base de datos completa, para que la segmentación se realize __dentro__ de la función.\n",
    "* La función debe retornar un `DataFrame`.\n",
    "* Implemente la función para extraer la información sobre la cantidad de goles a favor, en contra y la cantidad de puntos.\n",
    "* Reporte en qué continente se encuentra la mayor cantidad de goles a favor, en contra y cantidad de puntos."
   ]
  },
  {
   "cell_type": "code",
   "execution_count": 117,
   "metadata": {},
   "outputs": [],
   "source": [
    "def agrupar(dataframe, group_by, var):\n",
    "    group = dataframe[group_by].unique()\n",
    "    continent = []\n",
    "    store_mean = []\n",
    "    store_std = []\n",
    "    for i in group:\n",
    "        continent.append(i)\n",
    "        store_mean.append(media(dataframe[dataframe[group_by]==i][var]))\n",
    "        store_std.append(varianza(dataframe[dataframe[group_by]==i][var]))\n",
    "    tmp = pd.DataFrame({'continente': continent,\n",
    "                   'media': store_mean,\n",
    "                   'std': store_std})\n",
    "    return tmp"
   ]
  },
  {
   "cell_type": "code",
   "execution_count": 118,
   "metadata": {},
   "outputs": [
    {
     "data": {
      "text/html": [
       "<div>\n",
       "<style>\n",
       "    .dataframe thead tr:only-child th {\n",
       "        text-align: right;\n",
       "    }\n",
       "\n",
       "    .dataframe thead th {\n",
       "        text-align: left;\n",
       "    }\n",
       "\n",
       "    .dataframe tbody tr th {\n",
       "        vertical-align: top;\n",
       "    }\n",
       "</style>\n",
       "<table border=\"1\" class=\"dataframe\">\n",
       "  <thead>\n",
       "    <tr style=\"text-align: right;\">\n",
       "      <th></th>\n",
       "      <th>continente</th>\n",
       "      <th>media</th>\n",
       "      <th>std</th>\n",
       "    </tr>\n",
       "  </thead>\n",
       "  <tbody>\n",
       "    <tr>\n",
       "      <th>0</th>\n",
       "      <td>southamerica</td>\n",
       "      <td>5.666667</td>\n",
       "      <td>3.888889</td>\n",
       "    </tr>\n",
       "    <tr>\n",
       "      <th>1</th>\n",
       "      <td>northamerica</td>\n",
       "      <td>3.250000</td>\n",
       "      <td>1.687500</td>\n",
       "    </tr>\n",
       "    <tr>\n",
       "      <th>2</th>\n",
       "      <td>europe</td>\n",
       "      <td>4.769231</td>\n",
       "      <td>6.331361</td>\n",
       "    </tr>\n",
       "    <tr>\n",
       "      <th>3</th>\n",
       "      <td>africa</td>\n",
       "      <td>3.600000</td>\n",
       "      <td>2.640000</td>\n",
       "    </tr>\n",
       "    <tr>\n",
       "      <th>4</th>\n",
       "      <td>asia</td>\n",
       "      <td>2.250000</td>\n",
       "      <td>0.687500</td>\n",
       "    </tr>\n",
       "  </tbody>\n",
       "</table>\n",
       "</div>"
      ],
      "text/plain": [
       "     continente     media       std\n",
       "0  southamerica  5.666667  3.888889\n",
       "1  northamerica  3.250000  1.687500\n",
       "2        europe  4.769231  6.331361\n",
       "3        africa  3.600000  2.640000\n",
       "4          asia  2.250000  0.687500"
      ]
     },
     "execution_count": 118,
     "metadata": {},
     "output_type": "execute_result"
    }
   ],
   "source": [
    "agrupar(df, 'continent','goles_favor')"
   ]
  },
  {
   "cell_type": "code",
   "execution_count": 119,
   "metadata": {},
   "outputs": [
    {
     "data": {
      "text/html": [
       "<div>\n",
       "<style>\n",
       "    .dataframe thead tr:only-child th {\n",
       "        text-align: right;\n",
       "    }\n",
       "\n",
       "    .dataframe thead th {\n",
       "        text-align: left;\n",
       "    }\n",
       "\n",
       "    .dataframe tbody tr th {\n",
       "        vertical-align: top;\n",
       "    }\n",
       "</style>\n",
       "<table border=\"1\" class=\"dataframe\">\n",
       "  <thead>\n",
       "    <tr style=\"text-align: right;\">\n",
       "      <th></th>\n",
       "      <th>continente</th>\n",
       "      <th>media</th>\n",
       "      <th>std</th>\n",
       "    </tr>\n",
       "  </thead>\n",
       "  <tbody>\n",
       "    <tr>\n",
       "      <th>0</th>\n",
       "      <td>southamerica</td>\n",
       "      <td>2.833333</td>\n",
       "      <td>0.472222</td>\n",
       "    </tr>\n",
       "    <tr>\n",
       "      <th>1</th>\n",
       "      <td>northamerica</td>\n",
       "      <td>3.500000</td>\n",
       "      <td>8.250000</td>\n",
       "    </tr>\n",
       "    <tr>\n",
       "      <th>2</th>\n",
       "      <td>europe</td>\n",
       "      <td>4.000000</td>\n",
       "      <td>3.538462</td>\n",
       "    </tr>\n",
       "    <tr>\n",
       "      <th>3</th>\n",
       "      <td>africa</td>\n",
       "      <td>5.600000</td>\n",
       "      <td>3.840000</td>\n",
       "    </tr>\n",
       "    <tr>\n",
       "      <th>4</th>\n",
       "      <td>asia</td>\n",
       "      <td>6.250000</td>\n",
       "      <td>3.187500</td>\n",
       "    </tr>\n",
       "  </tbody>\n",
       "</table>\n",
       "</div>"
      ],
      "text/plain": [
       "     continente     media       std\n",
       "0  southamerica  2.833333  0.472222\n",
       "1  northamerica  3.500000  8.250000\n",
       "2        europe  4.000000  3.538462\n",
       "3        africa  5.600000  3.840000\n",
       "4          asia  6.250000  3.187500"
      ]
     },
     "execution_count": 119,
     "metadata": {},
     "output_type": "execute_result"
    }
   ],
   "source": [
    "agrupar(df, 'continent','goles_contra')"
   ]
  },
  {
   "cell_type": "code",
   "execution_count": 120,
   "metadata": {},
   "outputs": [
    {
     "data": {
      "text/html": [
       "<div>\n",
       "<style>\n",
       "    .dataframe thead tr:only-child th {\n",
       "        text-align: right;\n",
       "    }\n",
       "\n",
       "    .dataframe thead th {\n",
       "        text-align: left;\n",
       "    }\n",
       "\n",
       "    .dataframe tbody tr th {\n",
       "        vertical-align: top;\n",
       "    }\n",
       "</style>\n",
       "<table border=\"1\" class=\"dataframe\">\n",
       "  <thead>\n",
       "    <tr style=\"text-align: right;\">\n",
       "      <th></th>\n",
       "      <th>continente</th>\n",
       "      <th>media</th>\n",
       "      <th>std</th>\n",
       "    </tr>\n",
       "  </thead>\n",
       "  <tbody>\n",
       "    <tr>\n",
       "      <th>0</th>\n",
       "      <td>southamerica</td>\n",
       "      <td>6.833333</td>\n",
       "      <td>3.138889</td>\n",
       "    </tr>\n",
       "    <tr>\n",
       "      <th>1</th>\n",
       "      <td>northamerica</td>\n",
       "      <td>4.500000</td>\n",
       "      <td>8.250000</td>\n",
       "    </tr>\n",
       "    <tr>\n",
       "      <th>2</th>\n",
       "      <td>europe</td>\n",
       "      <td>4.692308</td>\n",
       "      <td>6.366864</td>\n",
       "    </tr>\n",
       "    <tr>\n",
       "      <th>3</th>\n",
       "      <td>africa</td>\n",
       "      <td>2.400000</td>\n",
       "      <td>2.640000</td>\n",
       "    </tr>\n",
       "    <tr>\n",
       "      <th>4</th>\n",
       "      <td>asia</td>\n",
       "      <td>0.750000</td>\n",
       "      <td>0.187500</td>\n",
       "    </tr>\n",
       "  </tbody>\n",
       "</table>\n",
       "</div>"
      ],
      "text/plain": [
       "     continente     media       std\n",
       "0  southamerica  6.833333  3.138889\n",
       "1  northamerica  4.500000  8.250000\n",
       "2        europe  4.692308  6.366864\n",
       "3        africa  2.400000  2.640000\n",
       "4          asia  0.750000  0.187500"
      ]
     },
     "execution_count": 120,
     "metadata": {},
     "output_type": "execute_result"
    }
   ],
   "source": [
    "agrupar(df, 'continent','puntos')"
   ]
  },
  {
   "cell_type": "markdown",
   "metadata": {},
   "source": [
    "La mayor cantidad de goles a favor es en sudamérica.   \n",
    "La mayor cantidad de goles en contra es a Asia.  \n",
    "La mayor cantidad de puntos es Sudamérica"
   ]
  },
  {
   "cell_type": "markdown",
   "metadata": {},
   "source": [
    "\n",
    "## Ejercicio 3: Simulaciones\n",
    "\n",
    "* Genere una función `generate_pet` que devuelva de forma aleatoria un string `'perro'` o `'gato'`. Ejecútela un par de veces.\n",
    "    - _tip:_ Puede utilizar la función `np.random.choice` para retornar elementos al azar.\n",
    "\n",
    "* Aplique la función `generate_pet` 20 veces mediante un loop y guarde los resultados en una lista.\n",
    "    - _tip:_ Puede generar una lista vacía con `[ ]` y asignarla a un objeto. Puede añadir elementos a la lista con `.append`.\n",
    "    - _tip:_ Puede generar loops `for _ in <rango>`, donde la declaración de `_` permite ejecutar las expresiones n veces.\n",
    "* ¿Cuál es la probabilidad de elegir un perro al azar? ¿Y un gato?\n",
    "\n",
    "* Agrege `np.random.seed(2)` al inicio del chunk. ¿Qué hace éste método en la simulación?"
   ]
  },
  {
   "cell_type": "code",
   "execution_count": 131,
   "metadata": {},
   "outputs": [],
   "source": [
    "def generate_pet():\n",
    "    return(np.random.choice(['gato','perro']))\n",
    "    "
   ]
  },
  {
   "cell_type": "code",
   "execution_count": 162,
   "metadata": {},
   "outputs": [],
   "source": [
    "mascotas = []\n",
    "for i in range(20):\n",
    "    mascotas.append((generate_pet()))"
   ]
  },
  {
   "cell_type": "code",
   "execution_count": 164,
   "metadata": {},
   "outputs": [
    {
     "data": {
      "text/plain": [
       "gato     0.55\n",
       "perro    0.45\n",
       "dtype: float64"
      ]
     },
     "execution_count": 164,
     "metadata": {},
     "output_type": "execute_result"
    }
   ],
   "source": [
    "pd.Series(mascotas).value_counts(True)"
   ]
  },
  {
   "cell_type": "markdown",
   "metadata": {},
   "source": [
    "La probabilidad depende de los numeros generados aleatoriamente, en este caso es 55% para gato y 45% para perro."
   ]
  },
  {
   "cell_type": "code",
   "execution_count": 183,
   "metadata": {
    "collapsed": true
   },
   "outputs": [],
   "source": [
    "np.random.seed(1)\n",
    "mascotas2 = []\n",
    "for i in range(20):\n",
    "    mascotas2.append((generate_pet()))"
   ]
  },
  {
   "cell_type": "code",
   "execution_count": 184,
   "metadata": {},
   "outputs": [
    {
     "data": {
      "text/plain": [
       "perro    0.55\n",
       "gato     0.45\n",
       "dtype: float64"
      ]
     },
     "execution_count": 184,
     "metadata": {},
     "output_type": "execute_result"
    }
   ],
   "source": [
    "pd.Series(mascotas2).value_counts(True)"
   ]
  },
  {
   "cell_type": "markdown",
   "metadata": {},
   "source": [
    "El seed hace que el random choice se mantenga constante aunque la función se ejecute nuevamente"
   ]
  },
  {
   "cell_type": "markdown",
   "metadata": {},
   "source": [
    "## Ejercicio 4: Función simuladora\n",
    "\n",
    "* Genere un método llamado `simulate_pets_prob` que tome como argumento un número finito de simulaciones a generar.\n",
    "* El método debe simular dos situaciones, `young_pet` y `old_pet`, y contar la ocurrencia de los siguientes casos:\n",
    "    1. De los dos animales simulados, contar las ocasiones donde por lo menos uno de los animales sea un perro.\n",
    "    - De los dos animales simulados, contar las ocasiones donde por lo menos uno sea un perro viejo.\n",
    "    - De los dos animales simulados, contar las ocasiones donde los dos sean perros\n",
    "* El método debe tener una semilla pseudoaleatoria de 1.\n",
    "* De los tres escenarios, ¿Cuál es el menos probable? ¿Cuál es el más probable?"
   ]
  },
  {
   "cell_type": "code",
   "execution_count": 243,
   "metadata": {},
   "outputs": [],
   "source": [
    "def simulate_pets_prob(nsimulaciones):\n",
    "    np.random.seed(2)\n",
    "    condicion_1 = 0\n",
    "    condicion_2 = 0\n",
    "    condicion_3 = 0\n",
    "    for i in range(nsimulaciones):\n",
    "        yp = generate_pet()\n",
    "        op = generate_pet()\n",
    "        # print(yp,op)\n",
    "        if yp == 'perro' or op == 'perro':\n",
    "            condicion_1 +=1\n",
    "        if op == 'perro':\n",
    "            condicion_2 +=1\n",
    "        if yp == 'perro' and op == 'perro':\n",
    "            condicion_3 +=1\n",
    "    print('Casos donde al menos uno de los animales es un perro:', condicion_1)\n",
    "    print('Casos donde la mascota vieja es un perro:', condicion_2)\n",
    "    print('Casos donde ambas mascotas son perros:',condicion_3)\n",
    "        "
   ]
  },
  {
   "cell_type": "code",
   "execution_count": 245,
   "metadata": {},
   "outputs": [
    {
     "name": "stdout",
     "output_type": "stream",
     "text": [
      "Casos donde al menos uno de los animales es un perro: 762\n",
      "Casos donde la mascota vieja es un perro: 515\n",
      "Casos donde ambas mascotas son perros: 260\n"
     ]
    }
   ],
   "source": [
    "simulate_pets_prob(1000)"
   ]
  },
  {
   "cell_type": "markdown",
   "metadata": {},
   "source": [
    "El más probable es el caso 1,y el menos probable es el caso 3."
   ]
  },
  {
   "cell_type": "code",
   "execution_count": null,
   "metadata": {
    "collapsed": true
   },
   "outputs": [],
   "source": []
  }
 ],
 "metadata": {
  "kernelspec": {
   "display_name": "Python 3",
   "language": "python",
   "name": "python3"
  },
  "language_info": {
   "codemirror_mode": {
    "name": "ipython",
    "version": 3
   },
   "file_extension": ".py",
   "mimetype": "text/x-python",
   "name": "python",
   "nbconvert_exporter": "python",
   "pygments_lexer": "ipython3",
   "version": "3.6.1"
  }
 },
 "nbformat": 4,
 "nbformat_minor": 2
}
