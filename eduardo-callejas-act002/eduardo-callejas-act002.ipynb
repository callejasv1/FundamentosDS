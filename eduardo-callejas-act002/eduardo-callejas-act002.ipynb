{
 "cells": [
  {
   "cell_type": "markdown",
   "metadata": {},
   "source": [
    "\n",
    "## Ejercicio 1: Generar un par de arrays ficticios con `numpy`\n",
    "\n",
    "* _tip:_ utilice la funciÃ³n `linspace` para generar un array entre 1 y 50, y un array entre 50 y 150.\n"
   ]
  },
  {
   "cell_type": "code",
   "execution_count": 56,
   "metadata": {
    "collapsed": true
   },
   "outputs": [],
   "source": [
    "import numpy as np\n",
    "import pandas as pd"
   ]
  },
  {
   "cell_type": "code",
   "execution_count": 25,
   "metadata": {},
   "outputs": [],
   "source": [
    "array_1 = np.linspace(1,50)"
   ]
  },
  {
   "cell_type": "code",
   "execution_count": 38,
   "metadata": {},
   "outputs": [],
   "source": [
    "array_2 =np.linspace(50, 150,101)"
   ]
  },
  {
   "cell_type": "markdown",
   "metadata": {},
   "source": [
    "Ejercicio 2: Ejecute un loop que devuelva si el número en el primer array es par o impar"
   ]
  },
  {
   "cell_type": "code",
   "execution_count": 28,
   "metadata": {},
   "outputs": [
    {
     "name": "stdout",
     "output_type": "stream",
     "text": [
      "1.0 es impar\n",
      "2.0 es par\n",
      "3.0 es impar\n",
      "4.0 es par\n",
      "5.0 es impar\n",
      "6.0 es par\n",
      "7.0 es impar\n",
      "8.0 es par\n",
      "9.0 es impar\n",
      "10.0 es par\n",
      "11.0 es impar\n",
      "12.0 es par\n",
      "13.0 es impar\n",
      "14.0 es par\n",
      "15.0 es impar\n",
      "16.0 es par\n",
      "17.0 es impar\n",
      "18.0 es par\n",
      "19.0 es impar\n",
      "20.0 es par\n",
      "21.0 es impar\n",
      "22.0 es par\n",
      "23.0 es impar\n",
      "24.0 es par\n",
      "25.0 es impar\n",
      "26.0 es par\n",
      "27.0 es impar\n",
      "28.0 es par\n",
      "29.0 es impar\n",
      "30.0 es par\n",
      "31.0 es impar\n",
      "32.0 es par\n",
      "33.0 es impar\n",
      "34.0 es par\n",
      "35.0 es impar\n",
      "36.0 es par\n",
      "37.0 es impar\n",
      "38.0 es par\n",
      "39.0 es impar\n",
      "40.0 es par\n",
      "41.0 es impar\n",
      "42.0 es par\n",
      "43.0 es impar\n",
      "44.0 es par\n",
      "45.0 es impar\n",
      "46.0 es par\n",
      "47.0 es impar\n",
      "48.0 es par\n",
      "49.0 es impar\n",
      "50.0 es par\n"
     ]
    }
   ],
   "source": [
    "for i in array_1:\n",
    "    if i%2 == 0:\n",
    "        print(i,\"es par\")\n",
    "    else:\n",
    "        print(i,\"es impar\")"
   ]
  },
  {
   "cell_type": "markdown",
   "metadata": {},
   "source": [
    "## Ejercicio 3: Genere un loop con el segundo array que cuente las siguientes condiciones\n",
    "- Si el número es divisible por 2 o 3\n",
    "- Si el número es divisible por 2 y 3\n",
    "- Si el número es divisible por 3 pero no por 2\n",
    "- si el número no es divisible por 2 ni 3"
   ]
  },
  {
   "cell_type": "code",
   "execution_count": 49,
   "metadata": {},
   "outputs": [],
   "source": [
    "count_1 = 0\n",
    "count_2 = 0\n",
    "count_3 = 0\n",
    "count_4 = 0\n",
    "for i in array_2:\n",
    "    if i%2 == 0 or i%3 == 0:\n",
    "        count_1 +=1\n",
    "    if i%2 == 0 and i%3 == 0:\n",
    "        count_2 +=1\n",
    "    if i%2 == 0 and i%3 != 0:\n",
    "        count_3 +=1\n",
    "    if i%2 != 0 and i%3 != 0:\n",
    "        count_4 +=1"
   ]
  },
  {
   "cell_type": "code",
   "execution_count": 54,
   "metadata": {},
   "outputs": [
    {
     "name": "stdout",
     "output_type": "stream",
     "text": [
      "Si el número es divisible por 2 o 3: 68\n",
      "Si el número es divisible por 2 y 3: 17\n",
      "Si el número es divisible por 3 pero no por 2:  34\n",
      "si el número no es divisible por 2 ni 3: 33\n"
     ]
    }
   ],
   "source": [
    "print(\"Si el número es divisible por 2 o 3:\", count_1)\n",
    "print(\"Si el número es divisible por 2 y 3:\", count_2)\n",
    "print(\"Si el número es divisible por 3 pero no por 2: \", count_3)\n",
    "print(\"si el número no es divisible por 2 ni 3:\",count_4)"
   ]
  },
  {
   "cell_type": "markdown",
   "metadata": {},
   "source": [
    "\n",
    "## Ejercicio 4\n",
    "* Utilizando la misma base `flights.csv`\n",
    "\n",
    "### Hacer un loop  y clasificar los meses con una cantidad de pasajeros menor a la media\n",
    "\n",
    "* Para ello, generen un nuevo objeto que represente la media de `passengers`.\n",
    "* Generen una columna en la base de datos que se llame `underperforming` y asígnele 0.\n",
    "* Ejecuten un loop que recorra cada observación de `passengers`, donde si la observación es menor a la media de `passengers` se le asigne a `underperforming` un 1.\n",
    "* Para asignar unos en la columna `underperforming` ya creada, utilice la función `set_value`.\n"
   ]
  },
  {
   "cell_type": "code",
   "execution_count": 119,
   "metadata": {},
   "outputs": [],
   "source": [
    "df = pd.read_csv('flights.csv')"
   ]
  },
  {
   "cell_type": "code",
   "execution_count": 72,
   "metadata": {
    "collapsed": true
   },
   "outputs": [],
   "source": [
    "passengers_media = np.mean(df['passengers'])"
   ]
  },
  {
   "cell_type": "code",
   "execution_count": 120,
   "metadata": {},
   "outputs": [
    {
     "data": {
      "text/plain": [
       "280.2986111111111"
      ]
     },
     "execution_count": 120,
     "metadata": {},
     "output_type": "execute_result"
    }
   ],
   "source": [
    "passengers_media"
   ]
  },
  {
   "cell_type": "code",
   "execution_count": 117,
   "metadata": {},
   "outputs": [
    {
     "data": {
      "text/html": [
       "<div>\n",
       "<style>\n",
       "    .dataframe thead tr:only-child th {\n",
       "        text-align: right;\n",
       "    }\n",
       "\n",
       "    .dataframe thead th {\n",
       "        text-align: left;\n",
       "    }\n",
       "\n",
       "    .dataframe tbody tr th {\n",
       "        vertical-align: top;\n",
       "    }\n",
       "</style>\n",
       "<table border=\"1\" class=\"dataframe\">\n",
       "  <thead>\n",
       "    <tr style=\"text-align: right;\">\n",
       "      <th></th>\n",
       "      <th>year</th>\n",
       "      <th>month</th>\n",
       "      <th>passengers</th>\n",
       "      <th>underperforming</th>\n",
       "      <th>outlier</th>\n",
       "    </tr>\n",
       "  </thead>\n",
       "  <tbody>\n",
       "    <tr>\n",
       "      <th>0</th>\n",
       "      <td>1949</td>\n",
       "      <td>January</td>\n",
       "      <td>112</td>\n",
       "      <td>0</td>\n",
       "      <td>1</td>\n",
       "    </tr>\n",
       "    <tr>\n",
       "      <th>1</th>\n",
       "      <td>1949</td>\n",
       "      <td>February</td>\n",
       "      <td>118</td>\n",
       "      <td>0</td>\n",
       "      <td>1</td>\n",
       "    </tr>\n",
       "    <tr>\n",
       "      <th>2</th>\n",
       "      <td>1949</td>\n",
       "      <td>March</td>\n",
       "      <td>132</td>\n",
       "      <td>0</td>\n",
       "      <td>1</td>\n",
       "    </tr>\n",
       "    <tr>\n",
       "      <th>3</th>\n",
       "      <td>1949</td>\n",
       "      <td>April</td>\n",
       "      <td>129</td>\n",
       "      <td>0</td>\n",
       "      <td>1</td>\n",
       "    </tr>\n",
       "    <tr>\n",
       "      <th>4</th>\n",
       "      <td>1949</td>\n",
       "      <td>May</td>\n",
       "      <td>121</td>\n",
       "      <td>0</td>\n",
       "      <td>1</td>\n",
       "    </tr>\n",
       "  </tbody>\n",
       "</table>\n",
       "</div>"
      ],
      "text/plain": [
       "   year     month  passengers  underperforming  outlier\n",
       "0  1949   January         112                0        1\n",
       "1  1949  February         118                0        1\n",
       "2  1949     March         132                0        1\n",
       "3  1949     April         129                0        1\n",
       "4  1949       May         121                0        1"
      ]
     },
     "execution_count": 117,
     "metadata": {},
     "output_type": "execute_result"
    }
   ],
   "source": [
    "df.head()"
   ]
  },
  {
   "cell_type": "code",
   "execution_count": 127,
   "metadata": {
    "collapsed": true
   },
   "outputs": [],
   "source": [
    "df[\"underperforming\"]=0"
   ]
  },
  {
   "cell_type": "code",
   "execution_count": 128,
   "metadata": {},
   "outputs": [],
   "source": [
    "indice=0\n",
    "for i in df['passengers']:\n",
    "    if i > passengers_media:\n",
    "        df.set_value(indice,'underperforming',1)\n",
    "    indice+=1"
   ]
  },
  {
   "cell_type": "code",
   "execution_count": 129,
   "metadata": {},
   "outputs": [
    {
     "data": {
      "text/plain": [
       "0    80\n",
       "1    64\n",
       "Name: underperforming, dtype: int64"
      ]
     },
     "execution_count": 129,
     "metadata": {},
     "output_type": "execute_result"
    }
   ],
   "source": [
    "df[\"underperforming\"].value_counts()"
   ]
  },
  {
   "cell_type": "markdown",
   "metadata": {},
   "source": [
    "\n",
    "## Ejercicio 5: Hacer un loop que clasifique los meses donde la cantidad de pasajeros se escapa de la tendencia.\n",
    "\n",
    "* Para ello, genere dos objetos que guarden la media general y la desviación estandar general de `passengers`.\n",
    "* Genere una nueva columna en la tabla de datos que se llame `outlier` y asignele 0.\n",
    "* Ejecuten un loop que recorra cada observación de `passengers`, donde si la observación se escapa de la tendencia sea 1, de lo contrario 0.\n",
    "* Para clasificar los casos que se escapen la tendencia, la observación debe satisfacer una de las siguientes condiciones:\n",
    "    - La observación debe ser menor a la  media menos la desviación estándar, o\n",
    "    - La observación debe ser mayor a la media más la desviación estándar.\n",
    "    \n",
    "#### ¿Cuántas observaciones se pueden clasificar como casos extremos?\n"
   ]
  },
  {
   "cell_type": "code",
   "execution_count": 99,
   "metadata": {
    "collapsed": true
   },
   "outputs": [],
   "source": [
    "passengers_std= np.std(df['passengers'])"
   ]
  },
  {
   "cell_type": "code",
   "execution_count": 100,
   "metadata": {},
   "outputs": [
    {
     "data": {
      "text/plain": [
       "119.54904153277148"
      ]
     },
     "execution_count": 100,
     "metadata": {},
     "output_type": "execute_result"
    }
   ],
   "source": [
    "passengers_std"
   ]
  },
  {
   "cell_type": "code",
   "execution_count": 123,
   "metadata": {
    "collapsed": true
   },
   "outputs": [],
   "source": [
    "df['outlier']=0"
   ]
  },
  {
   "cell_type": "code",
   "execution_count": 124,
   "metadata": {
    "collapsed": true
   },
   "outputs": [],
   "source": [
    "indice=0\n",
    "for i in df['passengers']:\n",
    "    if i > (passengers_media+passengers_std) or i <(passengers_media-passengers_std):\n",
    "        df.set_value(indice,'outlier',1)\n",
    "    indice+=1"
   ]
  },
  {
   "cell_type": "code",
   "execution_count": 109,
   "metadata": {},
   "outputs": [
    {
     "name": "stdout",
     "output_type": "stream",
     "text": [
      "Límite menor 160.74956957833962\n",
      "Límite mayor 399.84765264388255\n"
     ]
    }
   ],
   "source": [
    "print(\"Límite menor\",passengers_media-passengers_std)\n",
    "print(\"Límite mayor\", passengers_media+passengers_std)"
   ]
  },
  {
   "cell_type": "code",
   "execution_count": 110,
   "metadata": {},
   "outputs": [],
   "source": [
    "outliers = df[df[\"outlier\"]==1]"
   ]
  },
  {
   "cell_type": "code",
   "execution_count": 115,
   "metadata": {},
   "outputs": [],
   "source": [
    "n_outliers =outliers['month'].count()"
   ]
  },
  {
   "cell_type": "code",
   "execution_count": 116,
   "metadata": {},
   "outputs": [
    {
     "name": "stdout",
     "output_type": "stream",
     "text": [
      "Hay 53 valores extremos\n"
     ]
    }
   ],
   "source": [
    "print(\"Hay\",n_outliers,\"valores extremos\")"
   ]
  },
  {
   "cell_type": "code",
   "execution_count": 126,
   "metadata": {},
   "outputs": [
    {
     "data": {
      "text/plain": [
       "0    91\n",
       "1    53\n",
       "Name: outlier, dtype: int64"
      ]
     },
     "execution_count": 126,
     "metadata": {},
     "output_type": "execute_result"
    }
   ],
   "source": [
    "df['outlier'].value_counts()"
   ]
  },
  {
   "cell_type": "code",
   "execution_count": 130,
   "metadata": {},
   "outputs": [
    {
     "data": {
      "text/html": [
       "<div>\n",
       "<style>\n",
       "    .dataframe thead tr:only-child th {\n",
       "        text-align: right;\n",
       "    }\n",
       "\n",
       "    .dataframe thead th {\n",
       "        text-align: left;\n",
       "    }\n",
       "\n",
       "    .dataframe tbody tr th {\n",
       "        vertical-align: top;\n",
       "    }\n",
       "</style>\n",
       "<table border=\"1\" class=\"dataframe\">\n",
       "  <thead>\n",
       "    <tr style=\"text-align: right;\">\n",
       "      <th></th>\n",
       "      <th>year</th>\n",
       "      <th>passengers</th>\n",
       "      <th>outlier</th>\n",
       "      <th>underperforming</th>\n",
       "    </tr>\n",
       "  </thead>\n",
       "  <tbody>\n",
       "    <tr>\n",
       "      <th>count</th>\n",
       "      <td>144.000000</td>\n",
       "      <td>144.000000</td>\n",
       "      <td>144.000000</td>\n",
       "      <td>144.000000</td>\n",
       "    </tr>\n",
       "    <tr>\n",
       "      <th>mean</th>\n",
       "      <td>1954.500000</td>\n",
       "      <td>280.298611</td>\n",
       "      <td>0.368056</td>\n",
       "      <td>0.444444</td>\n",
       "    </tr>\n",
       "    <tr>\n",
       "      <th>std</th>\n",
       "      <td>3.464102</td>\n",
       "      <td>119.966317</td>\n",
       "      <td>0.483960</td>\n",
       "      <td>0.498638</td>\n",
       "    </tr>\n",
       "    <tr>\n",
       "      <th>min</th>\n",
       "      <td>1949.000000</td>\n",
       "      <td>104.000000</td>\n",
       "      <td>0.000000</td>\n",
       "      <td>0.000000</td>\n",
       "    </tr>\n",
       "    <tr>\n",
       "      <th>25%</th>\n",
       "      <td>1951.750000</td>\n",
       "      <td>180.000000</td>\n",
       "      <td>0.000000</td>\n",
       "      <td>0.000000</td>\n",
       "    </tr>\n",
       "    <tr>\n",
       "      <th>50%</th>\n",
       "      <td>1954.500000</td>\n",
       "      <td>265.500000</td>\n",
       "      <td>0.000000</td>\n",
       "      <td>0.000000</td>\n",
       "    </tr>\n",
       "    <tr>\n",
       "      <th>75%</th>\n",
       "      <td>1957.250000</td>\n",
       "      <td>360.500000</td>\n",
       "      <td>1.000000</td>\n",
       "      <td>1.000000</td>\n",
       "    </tr>\n",
       "    <tr>\n",
       "      <th>max</th>\n",
       "      <td>1960.000000</td>\n",
       "      <td>622.000000</td>\n",
       "      <td>1.000000</td>\n",
       "      <td>1.000000</td>\n",
       "    </tr>\n",
       "  </tbody>\n",
       "</table>\n",
       "</div>"
      ],
      "text/plain": [
       "              year  passengers     outlier  underperforming\n",
       "count   144.000000  144.000000  144.000000       144.000000\n",
       "mean   1954.500000  280.298611    0.368056         0.444444\n",
       "std       3.464102  119.966317    0.483960         0.498638\n",
       "min    1949.000000  104.000000    0.000000         0.000000\n",
       "25%    1951.750000  180.000000    0.000000         0.000000\n",
       "50%    1954.500000  265.500000    0.000000         0.000000\n",
       "75%    1957.250000  360.500000    1.000000         1.000000\n",
       "max    1960.000000  622.000000    1.000000         1.000000"
      ]
     },
     "execution_count": 130,
     "metadata": {},
     "output_type": "execute_result"
    }
   ],
   "source": [
    "df.describe()"
   ]
  },
  {
   "cell_type": "code",
   "execution_count": 131,
   "metadata": {},
   "outputs": [
    {
     "data": {
      "text/plain": [
       "'0.20.1'"
      ]
     },
     "execution_count": 131,
     "metadata": {},
     "output_type": "execute_result"
    }
   ],
   "source": [
    "pd.__version__"
   ]
  },
  {
   "cell_type": "code",
   "execution_count": null,
   "metadata": {
    "collapsed": true
   },
   "outputs": [],
   "source": []
  }
 ],
 "metadata": {
  "kernelspec": {
   "display_name": "Python 3",
   "language": "python",
   "name": "python3"
  },
  "language_info": {
   "codemirror_mode": {
    "name": "ipython",
    "version": 3
   },
   "file_extension": ".py",
   "mimetype": "text/x-python",
   "name": "python",
   "nbconvert_exporter": "python",
   "pygments_lexer": "ipython3",
   "version": "3.6.4"
  }
 },
 "nbformat": 4,
 "nbformat_minor": 2
}
